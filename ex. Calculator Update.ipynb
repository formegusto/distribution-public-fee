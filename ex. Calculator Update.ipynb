{
 "cells": [
  {
   "cell_type": "code",
   "execution_count": 1,
   "id": "39402907",
   "metadata": {},
   "outputs": [],
   "source": [
    "%load_ext autoreload\n",
    "%autoreload 2\n",
    "%reload_ext autoreload"
   ]
  },
  {
   "cell_type": "code",
   "execution_count": 2,
   "id": "80009672",
   "metadata": {},
   "outputs": [],
   "source": [
    "from _src import PublicAnalysis"
   ]
  },
  {
   "cell_type": "code",
   "execution_count": 3,
   "id": "2d9a52a9",
   "metadata": {},
   "outputs": [],
   "source": [
    "file_path = \"data/apt_1.xlsx\"\n",
    "pa = PublicAnalysis(file_path)"
   ]
  },
  {
   "cell_type": "code",
   "execution_count": 4,
   "id": "549668ee",
   "metadata": {},
   "outputs": [],
   "source": [
    "pa.set_init()"
   ]
  },
  {
   "cell_type": "code",
   "execution_count": 5,
   "id": "44e41138",
   "metadata": {},
   "outputs": [],
   "source": [
    "pa.select_month(1)"
   ]
  },
  {
   "cell_type": "code",
   "execution_count": 6,
   "id": "fa5720d4",
   "metadata": {},
   "outputs": [],
   "source": [
    "pa.set_calc(public_percentage=30)"
   ]
  },
  {
   "cell_type": "code",
   "execution_count": 7,
   "id": "f6e8646c",
   "metadata": {},
   "outputs": [
    {
     "data": {
      "text/plain": [
       "99"
      ]
     },
     "execution_count": 7,
     "metadata": {},
     "output_type": "execute_result"
    }
   ],
   "source": [
    "pa.calc.households[0].kwh"
   ]
  },
  {
   "cell_type": "code",
   "execution_count": 8,
   "id": "3ec3a4f6",
   "metadata": {},
   "outputs": [
    {
     "data": {
      "text/plain": [
       "11000.0"
      ]
     },
     "execution_count": 8,
     "metadata": {},
     "output_type": "execute_result"
    }
   ],
   "source": [
    "pa.calc.households[0].elec_bill_vat_fund"
   ]
  },
  {
   "cell_type": "code",
   "execution_count": 9,
   "id": "10801328",
   "metadata": {},
   "outputs": [
    {
     "data": {
      "text/plain": [
       "1850.0"
      ]
     },
     "execution_count": 9,
     "metadata": {},
     "output_type": "execute_result"
    }
   ],
   "source": [
    "pa.calc.households[1].elec_bill_vat_fund"
   ]
  },
  {
   "cell_type": "code",
   "execution_count": 10,
   "id": "47112d4c",
   "metadata": {},
   "outputs": [],
   "source": [
    "from _src.Calculator.models import Household"
   ]
  },
  {
   "cell_type": "code",
   "execution_count": 11,
   "id": "5caa289f",
   "metadata": {},
   "outputs": [
    {
     "data": {
      "text/plain": [
       "45580.0"
      ]
     },
     "execution_count": 11,
     "metadata": {},
     "output_type": "execute_result"
    }
   ],
   "source": [
    "kwh = 330\n",
    "\n",
    "hh = Household(\"test\", kwh).set_rate(\"단일\", \"기타\")\n",
    "hh.elec_bill_vat_fund"
   ]
  }
 ],
 "metadata": {
  "kernelspec": {
   "display_name": "Python 3",
   "language": "python",
   "name": "python3"
  },
  "language_info": {
   "codemirror_mode": {
    "name": "ipython",
    "version": 3
   },
   "file_extension": ".py",
   "mimetype": "text/x-python",
   "name": "python",
   "nbconvert_exporter": "python",
   "pygments_lexer": "ipython3",
   "version": "3.9.4"
  }
 },
 "nbformat": 4,
 "nbformat_minor": 5
}
