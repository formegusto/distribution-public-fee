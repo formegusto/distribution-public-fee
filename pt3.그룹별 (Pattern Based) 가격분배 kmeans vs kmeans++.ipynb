{
 "cells": [
  {
   "cell_type": "code",
   "execution_count": 649,
   "id": "1b304bbe",
   "metadata": {},
   "outputs": [
    {
     "name": "stdout",
     "output_type": "stream",
     "text": [
      "The autoreload extension is already loaded. To reload it, use:\n",
      "  %reload_ext autoreload\n"
     ]
    }
   ],
   "source": [
    "%load_ext autoreload\n",
    "%autoreload 2\n",
    "%reload_ext autoreload"
   ]
  },
  {
   "cell_type": "code",
   "execution_count": 729,
   "id": "f3f42447",
   "metadata": {},
   "outputs": [],
   "source": [
    "import pandas as pd\n",
    "import numpy as np\n",
    "%matplotlib inline\n",
    "import matplotlib\n",
    "import matplotlib.pyplot as plt\n",
    "import math as mt\n",
    "import warnings\n",
    "\n",
    "# 한글출력\n",
    "matplotlib.rc('font', family='AppleGothic')\n",
    "plt.rcParams['axes.unicode_minus'] = False\n",
    "warnings.filterwarnings(action='ignore') \n",
    "\n",
    "from src import crs, PublicPredictor\n",
    "from src.dbc import utils, TimeDivisionKMeans\n",
    "from IPython.display import clear_output"
   ]
  },
  {
   "cell_type": "code",
   "execution_count": 651,
   "id": "55bacaed",
   "metadata": {},
   "outputs": [],
   "source": [
    "# 1. load_excel\n",
    "data_path = \"data/apt_1.xlsx\"\n",
    "xlsx = pd.read_excel(data_path, header=None,\n",
    "                     skiprows=2, engine=\"openpyxl\")\n",
    "\n",
    "# 2. data preprocessing\n",
    "p, m = crs.utils.data_preprocessing(xlsx)\n",
    "\n",
    "m.set_index(\"month\", inplace=True)\n",
    "\n",
    "# 3. data init\n",
    "_month = 1\n",
    "\n",
    "month_df = pd.DataFrame(m.loc[_month])\n",
    "month_df.reset_index(inplace=True)\n",
    "\n",
    "month_df.columns = ['name', 'usage (kWh)']\n",
    "\n",
    "PUBLIC_PERCENTAGE = 30\n",
    "APT = crs.utils.get_APT(month_df, PUBLIC_PERCENTAGE)\n",
    "\n",
    "calc = crs.models.ManagementOffice(\n",
    "        month=_month,\n",
    "        households=month_df,\n",
    "        APT=APT,\n",
    "        contract=\"단일계약\"\n",
    "    )\n",
    "apt = calc.apart"
   ]
  },
  {
   "cell_type": "code",
   "execution_count": 657,
   "id": "aefda05c",
   "metadata": {},
   "outputs": [],
   "source": [
    "m_15 = utils.data_preprocessing(xlsx)\n",
    "\n",
    "df = utils.dimension_reduction(m_15)\n",
    "m_60 = df.copy()\n",
    "\n",
    "m_15_1 = m_15[m_15.index.month == 1].copy()\n",
    "m_60_1 = m_60[m_60.index.month == 1].copy()"
   ]
  },
  {
   "cell_type": "markdown",
   "id": "c1e59d39",
   "metadata": {},
   "source": [
    "## KMeans Setting"
   ]
  },
  {
   "cell_type": "code",
   "execution_count": 809,
   "id": "afc092a9",
   "metadata": {},
   "outputs": [
    {
     "name": "stdout",
     "output_type": "stream",
     "text": [
      "0.6360841254629753\n",
      "0.6277401438932091\n"
     ]
    }
   ],
   "source": [
    "from sklearn.metrics import euclidean_distances as euc\n",
    "from src.KMeans import KMeans\n",
    "\n",
    "kmeans_1 = KMeans(datas=m_60_1.T.values[:, :24], ver=1)\n",
    "kmeans_1.init_setting()\n",
    "\n",
    "kmeans_2 = KMeans(datas=m_60_1.T.values[:, :24])\n",
    "kmeans_2.init_setting()\n",
    "\n",
    "kmeans_1.fit()\n",
    "kmeans_2.fit()\n",
    "\n",
    "clear_output(wait=True)\n",
    "\n",
    "print(kmeans_1.ecv)\n",
    "print(kmeans_2.ecv)"
   ]
  },
  {
   "cell_type": "code",
   "execution_count": 728,
   "id": "34c9ef99",
   "metadata": {},
   "outputs": [
    {
     "name": "stdout",
     "output_type": "stream",
     "text": [
      "0.7418005636448111\n",
      "0.731555277938693\n"
     ]
    }
   ],
   "source": [
    "print(euc(kmeans_1.clusters_, kmeans_1.clusters_).mean())\n",
    "print(euc(kmeans_2.clusters_, kmeans_2.clusters_).mean())"
   ]
  },
  {
   "cell_type": "code",
   "execution_count": 725,
   "id": "5a642cb0",
   "metadata": {},
   "outputs": [
    {
     "name": "stdout",
     "output_type": "stream",
     "text": [
      "2\n",
      "2\n"
     ]
    }
   ],
   "source": [
    "print(np.where(pd.Series(kmeans_1.labels_).value_counts().values == 1)[0].size)\n",
    "print(np.where(pd.Series(kmeans_2.labels_).value_counts().values == 1)[0].size)"
   ]
  },
  {
   "cell_type": "code",
   "execution_count": null,
   "id": "6b07838c",
   "metadata": {},
   "outputs": [],
   "source": []
  }
 ],
 "metadata": {
  "kernelspec": {
   "display_name": "Python 3 (ipykernel)",
   "language": "python",
   "name": "python3"
  },
  "language_info": {
   "codemirror_mode": {
    "name": "ipython",
    "version": 3
   },
   "file_extension": ".py",
   "mimetype": "text/x-python",
   "name": "python",
   "nbconvert_exporter": "python",
   "pygments_lexer": "ipython3",
   "version": "3.8.12"
  }
 },
 "nbformat": 4,
 "nbformat_minor": 5
}
