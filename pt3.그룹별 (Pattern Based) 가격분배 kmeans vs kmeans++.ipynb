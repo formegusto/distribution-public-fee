{
 "cells": [
  {
   "cell_type": "code",
   "execution_count": 1,
   "id": "1b304bbe",
   "metadata": {},
   "outputs": [],
   "source": [
    "%load_ext autoreload\n",
    "%autoreload 2\n",
    "%reload_ext autoreload"
   ]
  },
  {
   "cell_type": "code",
   "execution_count": 2,
   "id": "f3f42447",
   "metadata": {},
   "outputs": [],
   "source": [
    "import pandas as pd\n",
    "import numpy as np\n",
    "%matplotlib inline\n",
    "import matplotlib\n",
    "import matplotlib.pyplot as plt\n",
    "import math as mt\n",
    "import warnings\n",
    "\n",
    "# 한글출력\n",
    "matplotlib.rc('font', family='AppleGothic')\n",
    "plt.rcParams['axes.unicode_minus'] = False\n",
    "warnings.filterwarnings(action='ignore') \n",
    "\n",
    "from src import crs, PublicPredictor\n",
    "from src.dbc import utils, TimeDivisionKMeans\n",
    "from IPython.display import clear_output"
   ]
  },
  {
   "cell_type": "code",
   "execution_count": 3,
   "id": "55bacaed",
   "metadata": {},
   "outputs": [],
   "source": [
    "# 1. load_excel\n",
    "data_path = \"data/apt_1.xlsx\"\n",
    "xlsx = pd.read_excel(data_path, header=None,\n",
    "                     skiprows=2, engine=\"openpyxl\")\n",
    "\n",
    "# 2. data preprocessing\n",
    "p, m = crs.utils.data_preprocessing(xlsx)\n",
    "\n",
    "m.set_index(\"month\", inplace=True)\n",
    "\n",
    "# 3. data init\n",
    "_month = 1\n",
    "\n",
    "month_df = pd.DataFrame(m.loc[_month])\n",
    "month_df.reset_index(inplace=True)\n",
    "\n",
    "month_df.columns = ['name', 'usage (kWh)']\n",
    "\n",
    "PUBLIC_PERCENTAGE = 30\n",
    "APT = crs.utils.get_APT(month_df, PUBLIC_PERCENTAGE)\n",
    "\n",
    "calc = crs.models.ManagementOffice(\n",
    "        month=_month,\n",
    "        households=month_df,\n",
    "        APT=APT,\n",
    "        contract=\"단일계약\"\n",
    "    )\n",
    "apt = calc.apart"
   ]
  },
  {
   "cell_type": "code",
   "execution_count": 4,
   "id": "aefda05c",
   "metadata": {},
   "outputs": [],
   "source": [
    "m_15 = utils.data_preprocessing(xlsx)\n",
    "\n",
    "df = utils.dimension_reduction(m_15)\n",
    "m_60 = df.copy()\n",
    "\n",
    "m_15_1 = m_15[m_15.index.month == 1].copy()\n",
    "m_60_1 = m_60[m_60.index.month == 1].copy()"
   ]
  },
  {
   "cell_type": "markdown",
   "id": "c1e59d39",
   "metadata": {},
   "source": [
    "## KMeans Setting"
   ]
  },
  {
   "cell_type": "code",
   "execution_count": 31,
   "id": "afc092a9",
   "metadata": {},
   "outputs": [
    {
     "data": {
      "text/html": [
       "<div>\n",
       "<style scoped>\n",
       "    .dataframe tbody tr th:only-of-type {\n",
       "        vertical-align: middle;\n",
       "    }\n",
       "\n",
       "    .dataframe tbody tr th {\n",
       "        vertical-align: top;\n",
       "    }\n",
       "\n",
       "    .dataframe thead th {\n",
       "        text-align: right;\n",
       "    }\n",
       "</style>\n",
       "<table border=\"1\" class=\"dataframe\">\n",
       "  <thead>\n",
       "    <tr style=\"text-align: right;\">\n",
       "      <th></th>\n",
       "      <th>KMeans</th>\n",
       "      <th>KMeans++</th>\n",
       "    </tr>\n",
       "  </thead>\n",
       "  <tbody>\n",
       "    <tr>\n",
       "      <th>0</th>\n",
       "      <td>45</td>\n",
       "      <td>51</td>\n",
       "    </tr>\n",
       "    <tr>\n",
       "      <th>1</th>\n",
       "      <td>40</td>\n",
       "      <td>51</td>\n",
       "    </tr>\n",
       "    <tr>\n",
       "      <th>2</th>\n",
       "      <td>38</td>\n",
       "      <td>51</td>\n",
       "    </tr>\n",
       "    <tr>\n",
       "      <th>3</th>\n",
       "      <td>45</td>\n",
       "      <td>51</td>\n",
       "    </tr>\n",
       "    <tr>\n",
       "      <th>4</th>\n",
       "      <td>42</td>\n",
       "      <td>50</td>\n",
       "    </tr>\n",
       "    <tr>\n",
       "      <th>...</th>\n",
       "      <td>...</td>\n",
       "      <td>...</td>\n",
       "    </tr>\n",
       "    <tr>\n",
       "      <th>95</th>\n",
       "      <td>44</td>\n",
       "      <td>51</td>\n",
       "    </tr>\n",
       "    <tr>\n",
       "      <th>96</th>\n",
       "      <td>38</td>\n",
       "      <td>50</td>\n",
       "    </tr>\n",
       "    <tr>\n",
       "      <th>97</th>\n",
       "      <td>49</td>\n",
       "      <td>51</td>\n",
       "    </tr>\n",
       "    <tr>\n",
       "      <th>98</th>\n",
       "      <td>43</td>\n",
       "      <td>51</td>\n",
       "    </tr>\n",
       "    <tr>\n",
       "      <th>99</th>\n",
       "      <td>44</td>\n",
       "      <td>50</td>\n",
       "    </tr>\n",
       "  </tbody>\n",
       "</table>\n",
       "<p>100 rows × 2 columns</p>\n",
       "</div>"
      ],
      "text/plain": [
       "   KMeans KMeans++\n",
       "0      45       51\n",
       "1      40       51\n",
       "2      38       51\n",
       "3      45       51\n",
       "4      42       50\n",
       "..    ...      ...\n",
       "95     44       51\n",
       "96     38       50\n",
       "97     49       51\n",
       "98     43       51\n",
       "99     44       50\n",
       "\n",
       "[100 rows x 2 columns]"
      ]
     },
     "execution_count": 31,
     "metadata": {},
     "output_type": "execute_result"
    }
   ],
   "source": [
    "from sklearn.metrics import euclidean_distances as euc\n",
    "from src.KMeans import KMeans\n",
    "\n",
    "ecv_chk = pd.DataFrame(columns=['KMeans', 'KMeans++'])\n",
    "\n",
    "\n",
    "for case in range(0, 100):\n",
    "    kmeans_1 = KMeans(datas=m_60_1.T.values, ver=1)\n",
    "    kmeans_2 = KMeans(datas=m_60_1.T.values, ver=2)\n",
    "\n",
    "    kmeans_1.fit()\n",
    "    kmeans_2.fit()\n",
    "\n",
    "    clear_output(wait=True)\n",
    "\n",
    "    ecv_chk = ecv_chk.append({\n",
    "        \"KMeans\": round(kmeans_1.ecv * 100),\n",
    "        \"KMeans++\": round(kmeans_2.ecv * 100)\n",
    "    }, ignore_index=True)\n",
    "\n",
    "ecv_chk"
   ]
  },
  {
   "cell_type": "code",
   "execution_count": 38,
   "id": "fb5a54ea",
   "metadata": {},
   "outputs": [
    {
     "data": {
      "text/plain": [
       "43.19"
      ]
     },
     "execution_count": 38,
     "metadata": {},
     "output_type": "execute_result"
    }
   ],
   "source": [
    "ecv_chk['KMeans'].mean()"
   ]
  },
  {
   "cell_type": "code",
   "execution_count": 39,
   "id": "da4f639d",
   "metadata": {},
   "outputs": [
    {
     "data": {
      "text/plain": [
       "50.67"
      ]
     },
     "execution_count": 39,
     "metadata": {},
     "output_type": "execute_result"
    }
   ],
   "source": [
    "ecv_chk['KMeans++'].mean()"
   ]
  },
  {
   "cell_type": "code",
   "execution_count": 24,
   "id": "34c9ef99",
   "metadata": {},
   "outputs": [
    {
     "name": "stdout",
     "output_type": "stream",
     "text": [
      "10.599332667838961\n",
      "15.31524454971364\n"
     ]
    }
   ],
   "source": [
    "print(euc(kmeans_1.clusters_, kmeans_1.clusters_).mean())\n",
    "print(euc(kmeans_2.clusters_, kmeans_2.clusters_).mean())"
   ]
  },
  {
   "cell_type": "code",
   "execution_count": 40,
   "id": "5a642cb0",
   "metadata": {},
   "outputs": [
    {
     "data": {
      "text/html": [
       "<div>\n",
       "<style scoped>\n",
       "    .dataframe tbody tr th:only-of-type {\n",
       "        vertical-align: middle;\n",
       "    }\n",
       "\n",
       "    .dataframe tbody tr th {\n",
       "        vertical-align: top;\n",
       "    }\n",
       "\n",
       "    .dataframe thead th {\n",
       "        text-align: right;\n",
       "    }\n",
       "</style>\n",
       "<table border=\"1\" class=\"dataframe\">\n",
       "  <thead>\n",
       "    <tr style=\"text-align: right;\">\n",
       "      <th></th>\n",
       "      <th>KMeans</th>\n",
       "      <th>KMeans++</th>\n",
       "    </tr>\n",
       "  </thead>\n",
       "  <tbody>\n",
       "    <tr>\n",
       "      <th>0</th>\n",
       "      <td>3</td>\n",
       "      <td>4</td>\n",
       "    </tr>\n",
       "    <tr>\n",
       "      <th>1</th>\n",
       "      <td>1</td>\n",
       "      <td>4</td>\n",
       "    </tr>\n",
       "    <tr>\n",
       "      <th>2</th>\n",
       "      <td>1</td>\n",
       "      <td>3</td>\n",
       "    </tr>\n",
       "    <tr>\n",
       "      <th>3</th>\n",
       "      <td>3</td>\n",
       "      <td>4</td>\n",
       "    </tr>\n",
       "    <tr>\n",
       "      <th>4</th>\n",
       "      <td>1</td>\n",
       "      <td>3</td>\n",
       "    </tr>\n",
       "    <tr>\n",
       "      <th>...</th>\n",
       "      <td>...</td>\n",
       "      <td>...</td>\n",
       "    </tr>\n",
       "    <tr>\n",
       "      <th>95</th>\n",
       "      <td>3</td>\n",
       "      <td>4</td>\n",
       "    </tr>\n",
       "    <tr>\n",
       "      <th>96</th>\n",
       "      <td>2</td>\n",
       "      <td>4</td>\n",
       "    </tr>\n",
       "    <tr>\n",
       "      <th>97</th>\n",
       "      <td>1</td>\n",
       "      <td>2</td>\n",
       "    </tr>\n",
       "    <tr>\n",
       "      <th>98</th>\n",
       "      <td>2</td>\n",
       "      <td>3</td>\n",
       "    </tr>\n",
       "    <tr>\n",
       "      <th>99</th>\n",
       "      <td>3</td>\n",
       "      <td>3</td>\n",
       "    </tr>\n",
       "  </tbody>\n",
       "</table>\n",
       "<p>100 rows × 2 columns</p>\n",
       "</div>"
      ],
      "text/plain": [
       "   KMeans KMeans++\n",
       "0       3        4\n",
       "1       1        4\n",
       "2       1        3\n",
       "3       3        4\n",
       "4       1        3\n",
       "..    ...      ...\n",
       "95      3        4\n",
       "96      2        4\n",
       "97      1        2\n",
       "98      2        3\n",
       "99      3        3\n",
       "\n",
       "[100 rows x 2 columns]"
      ]
     },
     "execution_count": 40,
     "metadata": {},
     "output_type": "execute_result"
    }
   ],
   "source": [
    "from sklearn.metrics import euclidean_distances as euc\n",
    "from src.KMeans import KMeans\n",
    "\n",
    "outlier_chk = pd.DataFrame(columns=['KMeans', 'KMeans++'])\n",
    "\n",
    "\n",
    "for case in range(0, 100):\n",
    "    kmeans_1 = KMeans(datas=m_60_1.T.values, ver=1)\n",
    "    kmeans_2 = KMeans(datas=m_60_1.T.values, ver=2)\n",
    "\n",
    "    kmeans_1.fit()\n",
    "    kmeans_2.fit()\n",
    "\n",
    "    clear_output(wait=True)\n",
    "\n",
    "    outlier_chk = outlier_chk.append({\n",
    "        \"KMeans\": np.where(pd.Series(kmeans_1.labels_).value_counts().values == 1)[0].size,\n",
    "        \"KMeans++\": np.where(pd.Series(kmeans_2.labels_).value_counts().values == 1)[0].size\n",
    "    }, ignore_index=True)\n",
    "\n",
    "outlier_chk"
   ]
  },
  {
   "cell_type": "code",
   "execution_count": 47,
   "id": "14c14eea",
   "metadata": {},
   "outputs": [
    {
     "data": {
      "text/plain": [
       "4"
      ]
     },
     "execution_count": 47,
     "metadata": {},
     "output_type": "execute_result"
    }
   ],
   "source": [
    "outlier_chk['KMeans'].max()"
   ]
  },
  {
   "cell_type": "code",
   "execution_count": 48,
   "id": "a5afffcc",
   "metadata": {},
   "outputs": [
    {
     "data": {
      "text/plain": [
       "4"
      ]
     },
     "execution_count": 48,
     "metadata": {},
     "output_type": "execute_result"
    }
   ],
   "source": [
    "outlier_chk['KMeans++'].max()"
   ]
  },
  {
   "cell_type": "code",
   "execution_count": null,
   "id": "b56525d0",
   "metadata": {},
   "outputs": [],
   "source": [
    "outlier_chk['KMeans'].min()"
   ]
  }
 ],
 "metadata": {
  "kernelspec": {
   "display_name": "Python 3",
   "language": "python",
   "name": "python3"
  },
  "language_info": {
   "codemirror_mode": {
    "name": "ipython",
    "version": 3
   },
   "file_extension": ".py",
   "mimetype": "text/x-python",
   "name": "python",
   "nbconvert_exporter": "python",
   "pygments_lexer": "ipython3",
   "version": "3.9.4"
  }
 },
 "nbformat": 4,
 "nbformat_minor": 5
}
