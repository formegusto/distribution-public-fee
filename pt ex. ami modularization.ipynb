{
 "cells": [
  {
   "cell_type": "code",
   "execution_count": 1,
   "id": "8e139734",
   "metadata": {},
   "outputs": [],
   "source": [
    "%load_ext autoreload\n",
    "%autoreload 2\n",
    "%reload_ext autoreload"
   ]
  },
  {
   "cell_type": "code",
   "execution_count": 2,
   "id": "12233821",
   "metadata": {},
   "outputs": [],
   "source": [
    "from _src import EnergyTrading"
   ]
  },
  {
   "cell_type": "markdown",
   "id": "ebe50015",
   "metadata": {},
   "source": [
    "### data init"
   ]
  },
  {
   "cell_type": "code",
   "execution_count": 108,
   "id": "2d3ac6cf",
   "metadata": {},
   "outputs": [
    {
     "data": {
      "text/html": [
       "<div>\n",
       "<style scoped>\n",
       "    .dataframe tbody tr th:only-of-type {\n",
       "        vertical-align: middle;\n",
       "    }\n",
       "\n",
       "    .dataframe tbody tr th {\n",
       "        vertical-align: top;\n",
       "    }\n",
       "\n",
       "    .dataframe thead th {\n",
       "        text-align: right;\n",
       "    }\n",
       "</style>\n",
       "<table border=\"1\" class=\"dataframe\">\n",
       "  <thead>\n",
       "    <tr style=\"text-align: right;\">\n",
       "      <th></th>\n",
       "      <th>name</th>\n",
       "      <th>usage (kWh)</th>\n",
       "    </tr>\n",
       "  </thead>\n",
       "  <tbody>\n",
       "    <tr>\n",
       "      <th>0</th>\n",
       "      <td>601_101</td>\n",
       "      <td>287.717</td>\n",
       "    </tr>\n",
       "    <tr>\n",
       "      <th>1</th>\n",
       "      <td>601_102</td>\n",
       "      <td>231.085</td>\n",
       "    </tr>\n",
       "    <tr>\n",
       "      <th>2</th>\n",
       "      <td>601_103</td>\n",
       "      <td>198.624</td>\n",
       "    </tr>\n",
       "    <tr>\n",
       "      <th>3</th>\n",
       "      <td>601_104</td>\n",
       "      <td>242.755</td>\n",
       "    </tr>\n",
       "    <tr>\n",
       "      <th>4</th>\n",
       "      <td>601_201</td>\n",
       "      <td>200.995</td>\n",
       "    </tr>\n",
       "  </tbody>\n",
       "</table>\n",
       "</div>"
      ],
      "text/plain": [
       "      name  usage (kWh)\n",
       "0  601_101      287.717\n",
       "1  601_102      231.085\n",
       "2  601_103      198.624\n",
       "3  601_104      242.755\n",
       "4  601_201      200.995"
      ]
     },
     "execution_count": 108,
     "metadata": {},
     "output_type": "execute_result"
    }
   ],
   "source": [
    "file_path = \"ami_datas/apt_780_201809.csv\"\n",
    "trade = EnergyTrading(file_path, month=9)\n",
    "\n",
    "trade.datas.head()"
   ]
  },
  {
   "cell_type": "markdown",
   "id": "3cb6cc32",
   "metadata": {},
   "source": [
    "### set init\n",
    "- 설정값\n",
    "1. season : 계절\n",
    "2. step_limit : usageBorder, 거래 가능 사용량 구하기 위한\n",
    "3. sum_of_supply_kwh : 거래 가능 사용량 누진단계 1단계 미만 가구들의 총 합"
   ]
  },
  {
   "cell_type": "code",
   "execution_count": 109,
   "id": "44402087",
   "metadata": {},
   "outputs": [],
   "source": [
    "trade.set_init()"
   ]
  },
  {
   "cell_type": "code",
   "execution_count": 110,
   "id": "d9ff694e",
   "metadata": {},
   "outputs": [
    {
     "data": {
      "text/html": [
       "<div>\n",
       "<style scoped>\n",
       "    .dataframe tbody tr th:only-of-type {\n",
       "        vertical-align: middle;\n",
       "    }\n",
       "\n",
       "    .dataframe tbody tr th {\n",
       "        vertical-align: top;\n",
       "    }\n",
       "\n",
       "    .dataframe thead th {\n",
       "        text-align: right;\n",
       "    }\n",
       "</style>\n",
       "<table border=\"1\" class=\"dataframe\">\n",
       "  <thead>\n",
       "    <tr style=\"text-align: right;\">\n",
       "      <th></th>\n",
       "      <th>name</th>\n",
       "      <th>usage (kWh)</th>\n",
       "    </tr>\n",
       "  </thead>\n",
       "  <tbody>\n",
       "    <tr>\n",
       "      <th>0</th>\n",
       "      <td>601_101</td>\n",
       "      <td>287.717</td>\n",
       "    </tr>\n",
       "    <tr>\n",
       "      <th>1</th>\n",
       "      <td>601_102</td>\n",
       "      <td>231.085</td>\n",
       "    </tr>\n",
       "    <tr>\n",
       "      <th>2</th>\n",
       "      <td>601_103</td>\n",
       "      <td>198.624</td>\n",
       "    </tr>\n",
       "    <tr>\n",
       "      <th>3</th>\n",
       "      <td>601_104</td>\n",
       "      <td>242.755</td>\n",
       "    </tr>\n",
       "    <tr>\n",
       "      <th>4</th>\n",
       "      <td>601_201</td>\n",
       "      <td>200.995</td>\n",
       "    </tr>\n",
       "    <tr>\n",
       "      <th>...</th>\n",
       "      <td>...</td>\n",
       "      <td>...</td>\n",
       "    </tr>\n",
       "    <tr>\n",
       "      <th>775</th>\n",
       "      <td>610_1804</td>\n",
       "      <td>220.434</td>\n",
       "    </tr>\n",
       "    <tr>\n",
       "      <th>776</th>\n",
       "      <td>610_1903</td>\n",
       "      <td>283.028</td>\n",
       "    </tr>\n",
       "    <tr>\n",
       "      <th>777</th>\n",
       "      <td>610_1904</td>\n",
       "      <td>404.836</td>\n",
       "    </tr>\n",
       "    <tr>\n",
       "      <th>778</th>\n",
       "      <td>610_2003</td>\n",
       "      <td>220.235</td>\n",
       "    </tr>\n",
       "    <tr>\n",
       "      <th>779</th>\n",
       "      <td>610_2004</td>\n",
       "      <td>200.888</td>\n",
       "    </tr>\n",
       "  </tbody>\n",
       "</table>\n",
       "<p>780 rows × 2 columns</p>\n",
       "</div>"
      ],
      "text/plain": [
       "         name  usage (kWh)\n",
       "0     601_101      287.717\n",
       "1     601_102      231.085\n",
       "2     601_103      198.624\n",
       "3     601_104      242.755\n",
       "4     601_201      200.995\n",
       "..        ...          ...\n",
       "775  610_1804      220.434\n",
       "776  610_1903      283.028\n",
       "777  610_1904      404.836\n",
       "778  610_2003      220.235\n",
       "779  610_2004      200.888\n",
       "\n",
       "[780 rows x 2 columns]"
      ]
     },
     "execution_count": 110,
     "metadata": {},
     "output_type": "execute_result"
    }
   ],
   "source": [
    "trade.datas"
   ]
  },
  {
   "cell_type": "markdown",
   "id": "f9afdb33",
   "metadata": {},
   "source": [
    "### simulate"
   ]
  },
  {
   "cell_type": "code",
   "execution_count": null,
   "id": "7c17c224",
   "metadata": {},
   "outputs": [],
   "source": [
    "import time\n",
    "\n",
    "start = time.process_time()\n",
    "\n",
    "trade.simulate()\n",
    "\n",
    "end = time.process_time()\n",
    "\n",
    "print(end - start)\n",
    "\n",
    "trade.result.shape"
   ]
  },
  {
   "cell_type": "code",
   "execution_count": 11,
   "id": "927a0173",
   "metadata": {},
   "outputs": [
    {
     "name": "stdout",
     "output_type": "stream",
     "text": [
      "[200. 200.  60.]\n"
     ]
    }
   ],
   "source": [
    "import numpy as np\n",
    "def elec_rate(t):\n",
    "    step_limits = np.array([200, 200, float(\"inf\")])\n",
    "    steps = np.array([0, 200, 400])\n",
    "    \n",
    "    _1 = t - steps\n",
    "    _2 = _1[_1 > 0]\n",
    "    \n",
    "    size = _2.size\n",
    "    _3 = np.where(_2 < step_limits[:size], _2, step_limits[:size])\n",
    "    print(_3)\n",
    "    \n",
    "elec_rate(460)"
   ]
  },
  {
   "cell_type": "code",
   "execution_count": null,
   "id": "1c2aceb1",
   "metadata": {},
   "outputs": [],
   "source": []
  }
 ],
 "metadata": {
  "kernelspec": {
   "display_name": "Python 3",
   "language": "python",
   "name": "python3"
  },
  "language_info": {
   "codemirror_mode": {
    "name": "ipython",
    "version": 3
   },
   "file_extension": ".py",
   "mimetype": "text/x-python",
   "name": "python",
   "nbconvert_exporter": "python",
   "pygments_lexer": "ipython3",
   "version": "3.9.4"
  }
 },
 "nbformat": 4,
 "nbformat_minor": 5
}
