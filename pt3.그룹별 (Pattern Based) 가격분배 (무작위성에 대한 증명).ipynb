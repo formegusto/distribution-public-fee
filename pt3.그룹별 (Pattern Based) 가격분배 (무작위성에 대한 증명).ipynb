{
 "cells": [
  {
   "cell_type": "code",
   "execution_count": 1,
   "id": "6c598133",
   "metadata": {},
   "outputs": [],
   "source": [
    "%load_ext autoreload\n",
    "%autoreload 2\n",
    "%reload_ext autoreload"
   ]
  },
  {
   "cell_type": "code",
   "execution_count": 9,
   "id": "e2f9e25e",
   "metadata": {},
   "outputs": [],
   "source": [
    "import pandas as pd\n",
    "import numpy as np\n",
    "%matplotlib inline\n",
    "import matplotlib\n",
    "import matplotlib.pyplot as plt\n",
    "import math as mt\n",
    "import warnings\n",
    "\n",
    "# 한글출력\n",
    "matplotlib.rc('font', family='AppleGothic')\n",
    "plt.rcParams['axes.unicode_minus'] = False\n",
    "warnings.filterwarnings(action='ignore') \n",
    "\n",
    "from src import crs, PublicPredictor, TimeDivisionKMeans\n",
    "from src.dbc import utils\n",
    "from IPython.display import clear_output"
   ]
  },
  {
   "cell_type": "code",
   "execution_count": 3,
   "id": "c1e36c06",
   "metadata": {},
   "outputs": [],
   "source": [
    "# 1. load_excel\n",
    "data_path = \"data/apt_1.xlsx\"\n",
    "xlsx = pd.read_excel(data_path, header=None,\n",
    "                     skiprows=2, engine=\"openpyxl\")\n",
    "\n",
    "# 2. data preprocessing\n",
    "p, m = crs.utils.data_preprocessing(xlsx)\n",
    "\n",
    "m.set_index(\"month\", inplace=True)\n",
    "\n",
    "# 3. data init\n",
    "_month = 1\n",
    "\n",
    "month_df = pd.DataFrame(m.loc[_month])\n",
    "month_df.reset_index(inplace=True)\n",
    "\n",
    "month_df.columns = ['name', 'usage (kWh)']\n",
    "\n",
    "PUBLIC_PERCENTAGE = 30\n",
    "APT = crs.utils.get_APT(month_df, PUBLIC_PERCENTAGE)\n",
    "\n",
    "calc = crs.models.ManagementOffice(\n",
    "        month=_month,\n",
    "        households=month_df,\n",
    "        APT=APT,\n",
    "        contract=\"단일계약\"\n",
    "    )\n",
    "apt = calc.apart"
   ]
  },
  {
   "cell_type": "code",
   "execution_count": 10,
   "id": "ccb82c25",
   "metadata": {},
   "outputs": [],
   "source": [
    "m_15 = utils.data_preprocessing(xlsx)\n",
    "\n",
    "df = utils.dimension_reduction(m_15)\n",
    "m_60 = df.copy()\n",
    "\n",
    "m_15_1 = m_15[m_15.index.month == 1].copy()\n",
    "m_60_1 = m_60[m_60.index.month == 1].copy()"
   ]
  },
  {
   "cell_type": "code",
   "execution_count": 73,
   "id": "174bb6f6",
   "metadata": {},
   "outputs": [
    {
     "name": "stdout",
     "output_type": "stream",
     "text": [
      "ECV : 50 %\n",
      "1/248 - ECV:85%\n",
      "11/248 - ECV:79%\n",
      "21/248 - ECV:85%\n",
      "31/248 - ECV:86%\n",
      "41/248 - ECV:87%\n",
      "51/248 - ECV:83%\n",
      "61/248 - ECV:87%\n",
      "71/248 - ECV:83%\n",
      "81/248 - ECV:88%\n",
      "91/248 - ECV:82%\n",
      "101/248 - ECV:85%\n",
      "111/248 - ECV:81%\n",
      "121/248 - ECV:86%\n",
      "131/248 - ECV:78%\n",
      "141/248 - ECV:84%\n",
      "151/248 - ECV:87%\n",
      "161/248 - ECV:87%\n",
      "171/248 - ECV:79%\n",
      "181/248 - ECV:80%\n",
      "191/248 - ECV:83%\n",
      "201/248 - ECV:88%\n",
      "211/248 - ECV:80%\n",
      "221/248 - ECV:83%\n",
      "231/248 - ECV:81%\n",
      "241/248 - ECV:87%\n",
      "248/248 - ECV:84%\n"
     ]
    }
   ],
   "source": [
    "from sklearn.metrics import euclidean_distances as euc\n",
    "from src.KMeans import KMeans\n",
    "\n",
    "kmeans_sort_info = np.array([])\n",
    "tdkmeans_sort_info = np.array([])\n",
    "\n",
    "for case in range(0,500):\n",
    "    kmeans = KMeans(datas=m_60_1.T.values, ver=1)\n",
    "    kmeans.fit()\n",
    "    kmeans.sorting()\n",
    "\n",
    "    tdkmeans = TimeDivisionKMeans(datas=m_60_1)\n",
    "    tdkmeans.fit()\n",
    "    \n",
    "    kmeans_labels = kmeans.labels_\n",
    "    tdkmeans_labels = tdkmeans.groups_\n",
    "    \n",
    "    kmeans_sort_info = np.append(kmeans_sort_info, kmeans_labels).reshape(-1, kmeans_labels.size)\n",
    "    tdkmeans_sort_info = np.append(tdkmeans_sort_info, tdkmeans_labels).reshape(-1, tdkmeans_labels.size)\n",
    "    \n",
    "    clear_output(wait=True)"
   ]
  },
  {
   "cell_type": "code",
   "execution_count": 125,
   "id": "4cc80d9e",
   "metadata": {},
   "outputs": [],
   "source": [
    "kmeans_chk = np.array([])\n",
    "\n",
    "for sort_info in kmeans_sort_info:\n",
    "    chk = kmeans_sort_info == sort_info\n",
    "    for _chk in chk:\n",
    "        kmeans_chk = np.append(kmeans_chk, \n",
    "                              np.where(~_chk)[0].size\n",
    "                              )"
   ]
  },
  {
   "cell_type": "code",
   "execution_count": 127,
   "id": "a50309eb",
   "metadata": {},
   "outputs": [
    {
     "data": {
      "text/plain": [
       "51.214016"
      ]
     },
     "execution_count": 127,
     "metadata": {},
     "output_type": "execute_result"
    }
   ],
   "source": [
    "kmeans_chk.mean()"
   ]
  },
  {
   "cell_type": "code",
   "execution_count": 126,
   "id": "c14d7c03",
   "metadata": {},
   "outputs": [],
   "source": [
    "tdkmeans_chk = np.array([])\n",
    "\n",
    "for sort_info in tdkmeans_sort_info:\n",
    "    chk = tdkmeans_sort_info == sort_info\n",
    "    for _chk in chk:\n",
    "        tdkmeans_chk = np.append(tdkmeans_chk, \n",
    "                              np.where(~_chk)[0].size\n",
    "                              )"
   ]
  },
  {
   "cell_type": "code",
   "execution_count": 128,
   "id": "ebc2951f",
   "metadata": {},
   "outputs": [
    {
     "data": {
      "text/plain": [
       "3.683632"
      ]
     },
     "execution_count": 128,
     "metadata": {},
     "output_type": "execute_result"
    }
   ],
   "source": [
    "tdkmeans_chk.mean()"
   ]
  }
 ],
 "metadata": {
  "kernelspec": {
   "display_name": "Python 3 (ipykernel)",
   "language": "python",
   "name": "python3"
  },
  "language_info": {
   "codemirror_mode": {
    "name": "ipython",
    "version": 3
   },
   "file_extension": ".py",
   "mimetype": "text/x-python",
   "name": "python",
   "nbconvert_exporter": "python",
   "pygments_lexer": "ipython3",
   "version": "3.8.12"
  }
 },
 "nbformat": 4,
 "nbformat_minor": 5
}
