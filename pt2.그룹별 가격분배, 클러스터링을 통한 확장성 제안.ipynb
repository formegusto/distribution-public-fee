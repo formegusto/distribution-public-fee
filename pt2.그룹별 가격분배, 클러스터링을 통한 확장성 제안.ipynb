{
 "cells": [
  {
   "cell_type": "code",
   "execution_count": 1,
   "id": "325a3ba5",
   "metadata": {},
   "outputs": [],
   "source": [
    "%load_ext autoreload\n",
    "%autoreload 2\n",
    "%reload_ext autoreload"
   ]
  },
  {
   "cell_type": "code",
   "execution_count": 2,
   "id": "9e8d72a5",
   "metadata": {},
   "outputs": [],
   "source": [
    "import pandas as pd\n",
    "import numpy as np\n",
    "%matplotlib inline\n",
    "import matplotlib\n",
    "import matplotlib.pyplot as plt\n",
    "import math as mt\n",
    "import warnings\n",
    "\n",
    "# 한글출력\n",
    "matplotlib.rc('font', family='AppleGothic')\n",
    "plt.rcParams['axes.unicode_minus'] = False\n",
    "warnings.filterwarnings(action='ignore') \n",
    "\n",
    "from src import crs, PublicPredictor"
   ]
  },
  {
   "cell_type": "code",
   "execution_count": 3,
   "id": "96fac602",
   "metadata": {},
   "outputs": [],
   "source": [
    "# 1. load_excel\n",
    "data_path = \"data/apt_1.xlsx\"\n",
    "xlsx = pd.read_excel(data_path, header=None,\n",
    "                     skiprows=2, engine=\"openpyxl\")\n",
    "\n",
    "# 2. data preprocessing\n",
    "p, m = crs.utils.data_preprocessing(xlsx)\n",
    "\n",
    "m.set_index(\"month\", inplace=True)\n",
    "\n",
    "# 3. data init\n",
    "_month = 1\n",
    "\n",
    "month_df = pd.DataFrame(m.loc[_month])\n",
    "month_df.reset_index(inplace=True)\n",
    "\n",
    "month_df.columns = ['name', 'usage (kWh)']\n",
    "\n",
    "PUBLIC_PERCENTAGE = 30\n",
    "APT = crs.utils.get_APT(month_df, PUBLIC_PERCENTAGE)\n",
    "\n",
    "calc = crs.models.ManagementOffice(\n",
    "        month=_month,\n",
    "        households=month_df,\n",
    "        APT=APT,\n",
    "        contract=\"단일계약\"\n",
    "    )\n",
    "apt = calc.apart"
   ]
  },
  {
   "cell_type": "code",
   "execution_count": 6,
   "id": "9d332521",
   "metadata": {},
   "outputs": [
    {
     "data": {
      "text/plain": [
       "2640560"
      ]
     },
     "execution_count": 6,
     "metadata": {},
     "output_type": "execute_result"
    }
   ],
   "source": [
    "fee = calc.fee\n",
    "public_bill = calc.public_bill\n",
    "public_bill"
   ]
  },
  {
   "cell_type": "code",
   "execution_count": 7,
   "id": "e407dea0",
   "metadata": {},
   "outputs": [
    {
     "data": {
      "text/plain": [
       "24449.62962962963"
      ]
     },
     "execution_count": 7,
     "metadata": {},
     "output_type": "execute_result"
    }
   ],
   "source": [
    "_public_bill = public_bill / len(month_df)\n",
    "_public_bill"
   ]
  },
  {
   "cell_type": "markdown",
   "id": "b746236d",
   "metadata": {},
   "source": [
    "# 기존 수거부담율 현황"
   ]
  },
  {
   "cell_type": "code",
   "execution_count": 11,
   "id": "3fe18365",
   "metadata": {},
   "outputs": [],
   "source": [
    "basic_col_burden = list()\n",
    "basic_col = list()\n",
    "now_apt_step = 0\n",
    "APT_mean = round(APT / len(month_df))\n",
    "\n",
    "for step,_ in enumerate(fee):\n",
    "    if APT_mean < _[1]:\n",
    "        now_apt_step = step\n",
    "        break\n",
    "        \n",
    "for usage in month_df['usage (kWh)']:    \n",
    "    _basic = 0\n",
    "    for _ in fee:\n",
    "        if usage < _[1]:\n",
    "            _basic = _[2]\n",
    "            basic_col_burden.append(fee[now_apt_step][2] / _basic)\n",
    "            basic_col.append(_basic)\n",
    "            break"
   ]
  },
  {
   "cell_type": "code",
   "execution_count": 12,
   "id": "19daac7c",
   "metadata": {},
   "outputs": [
    {
     "data": {
      "image/png": "[encoded data removed]",
      "text/plain": [
       "<Figure size 1152x576 with 1 Axes>"
      ]
     },
     "metadata": {
      "needs_background": "light"
     },
     "output_type": "display_data"
    }
   ],
   "source": [
    "plt.figure(figsize=(16,8))\n",
    "\n",
    "plt.bar(range(len(month_df)),fee[now_apt_step][2], label='수거필요 기본요금', color='r')\n",
    "plt.bar(range(len(month_df)),basic_col, label='수거 기본요금', color='b')\n",
    "\n",
    "plt.title(\"기본요금 수거현황\")\n",
    "plt.legend()\n",
    "plt.yticks([0, 4000, 8000])\n",
    "plt.ylabel(\"가격\")\n",
    "\n",
    "plt.show()"
   ]
  },
  {
   "cell_type": "code",
   "execution_count": 17,
   "id": "b3e066b2",
   "metadata": {},
   "outputs": [
    {
     "data": {
      "image/png": "[encoded data removed]",
      "text/plain": [
       "<Figure size 1152x288 with 1 Axes>"
      ]
     },
     "metadata": {
      "needs_background": "light"
     },
     "output_type": "display_data"
    }
   ],
   "source": [
    "plt.figure(figsize=(16,4))\n",
    "\n",
    "plt.bar(range(len(month_df)),basic_col_burden, label='수거부담율', color='b')\n",
    "plt.title(\"기본요금 수거부담율 현황\")\n",
    "plt.legend()\n",
    "plt.yticks([0, 5, 10])\n",
    "plt.ylabel(\"수거부담율\")\n",
    "\n",
    "plt.show()"
   ]
  },
  {
   "cell_type": "code",
   "execution_count": 18,
   "id": "b3856533",
   "metadata": {},
   "outputs": [],
   "source": [
    "def get_col_list(kWh, fee):\n",
    "    col_list = list()\n",
    "    _usage = kWh\n",
    "    for step, _f in enumerate(fee):\n",
    "        collect_rate = _f[1] - _f[0]\n",
    "\n",
    "        # 2단계일 경우\n",
    "        if step == 1:\n",
    "            collect_rate += 1\n",
    "\n",
    "        if kWh < _f[1]:\n",
    "            if (step == 0) or (step == 1):\n",
    "                _col = _usage % collect_rate\n",
    "            else:\n",
    "                _col = _usage\n",
    "        else:\n",
    "            _col = collect_rate\n",
    "\n",
    "        if _usage == 0:\n",
    "            col_list.append(0)\n",
    "        else:\n",
    "            col_list.append(_col)\n",
    "            _usage -= _col\n",
    "\n",
    "    return np.array(col_list)\n",
    "\n",
    "def get_step_mem(col_list, fee):\n",
    "    _mem = list()\n",
    "    _mem_step = 0\n",
    "    \n",
    "    for step,val in enumerate(col_list):\n",
    "        _val = val\n",
    "        f = fee[step][3]\n",
    "        \n",
    "        while _val != 0:\n",
    "            _mem_step += f\n",
    "            _mem.append(_mem_step)\n",
    "            _val -= 1\n",
    "            \n",
    "            \n",
    "    return np.array(_mem)"
   ]
  },
  {
   "cell_type": "code",
   "execution_count": 19,
   "id": "e467d9e9",
   "metadata": {},
   "outputs": [],
   "source": [
    "households_mean = round(month_df['usage (kWh)'].mean())\n",
    "APT_mean = round(APT / len(month_df))\n",
    "\n",
    "households_col = get_col_list(households_mean, fee)\n",
    "APT_col = get_col_list(APT_mean, fee)\n",
    "public_col = APT_col - households_col\n",
    "public_mem = get_step_mem(public_col, fee)\n",
    "col_burden_list = list()\n",
    "\n",
    "for usage in month_df['usage (kWh)']:\n",
    "    chk_households_col = get_col_list(usage, fee)\n",
    "    _APT_mean = usage + public_col.sum()\n",
    "\n",
    "    chk_APT_col = get_col_list(_APT_mean, fee)\n",
    "    chk_public_col = chk_APT_col - chk_households_col\n",
    "    chk_public_mem = get_step_mem(chk_public_col, fee)\n",
    "    col_burden = public_mem / chk_public_mem\n",
    "    \n",
    "    col_burden_list.append(col_burden[-1])"
   ]
  },
  {
   "cell_type": "code",
   "execution_count": 21,
   "id": "af4989fa",
   "metadata": {},
   "outputs": [
    {
     "data": {
      "image/png": "[encoded data removed]",
      "text/plain": [
       "<Figure size 1152x288 with 1 Axes>"
      ]
     },
     "metadata": {
      "needs_background": "light"
     },
     "output_type": "display_data"
    }
   ],
   "source": [
    "plt.figure(figsize=(16,4))\n",
    "\n",
    "plt.bar(range(len(col_burden_list)), col_burden_list, color='g', label='수거부담율')\n",
    "plt.title(\"전력량요금 수거부담율 현황\")\n",
    "\n",
    "plt.legend()\n",
    "\n",
    "plt.show()"
   ]
  },
  {
   "cell_type": "markdown",
   "id": "62e8ef42",
   "metadata": {},
   "source": [
    "# 가격분배 후 수거부담율 현황"
   ]
  },
  {
   "cell_type": "markdown",
   "id": "83c3c020",
   "metadata": {},
   "source": [
    "## 히스토그램 그룹화"
   ]
  },
  {
   "cell_type": "code",
   "execution_count": 22,
   "id": "702f081a",
   "metadata": {},
   "outputs": [
    {
     "data": {
      "text/plain": [
       "<AxesSubplot:>"
      ]
     },
     "execution_count": 22,
     "metadata": {},
     "output_type": "execute_result"
    },
    {
     "data": {
      "image/png": "[encoded data removed]",
      "text/plain": [
       "<Figure size 1152x432 with 1 Axes>"
      ]
     },
     "metadata": {
      "needs_background": "light"
     },
     "output_type": "display_data"
    }
   ],
   "source": [
    "bins = round(mt.sqrt(len(month_df) / 2))\n",
    "\n",
    "month_df['usage (kWh)'].hist(bins=bins, figsize=(16,6))"
   ]
  },
  {
   "cell_type": "markdown",
   "id": "d7a57cd5",
   "metadata": {},
   "source": [
    "## 그룹화 방식 : 그룹의 중간값과 그룹의 중간값 토탈과 비교하여 기여도 산정, 가격분배 방식 : 기여도 공용부요금 일 때의 기본요금 수거부담율과 전력량요금 수거부담율 형태"
   ]
  },
  {
   "cell_type": "code",
   "execution_count": 27,
   "id": "ddfcede8",
   "metadata": {},
   "outputs": [
    {
     "data": {
      "text/html": [
       "<div>\n",
       "<style scoped>\n",
       "    .dataframe tbody tr th:only-of-type {\n",
       "        vertical-align: middle;\n",
       "    }\n",
       "\n",
       "    .dataframe tbody tr th {\n",
       "        vertical-align: top;\n",
       "    }\n",
       "\n",
       "    .dataframe thead th {\n",
       "        text-align: right;\n",
       "    }\n",
       "</style>\n",
       "<table border=\"1\" class=\"dataframe\">\n",
       "  <thead>\n",
       "    <tr style=\"text-align: right;\">\n",
       "      <th></th>\n",
       "      <th>start</th>\n",
       "      <th>end</th>\n",
       "      <th>가구 수</th>\n",
       "      <th>median</th>\n",
       "      <th>contribution</th>\n",
       "    </tr>\n",
       "  </thead>\n",
       "  <tbody>\n",
       "    <tr>\n",
       "      <th>0</th>\n",
       "      <td>10.000000</td>\n",
       "      <td>110.142857</td>\n",
       "      <td>7.0</td>\n",
       "      <td>60.071429</td>\n",
       "      <td>0.023805</td>\n",
       "    </tr>\n",
       "    <tr>\n",
       "      <th>1</th>\n",
       "      <td>110.142857</td>\n",
       "      <td>210.285714</td>\n",
       "      <td>15.0</td>\n",
       "      <td>160.214286</td>\n",
       "      <td>0.063489</td>\n",
       "    </tr>\n",
       "    <tr>\n",
       "      <th>2</th>\n",
       "      <td>210.285714</td>\n",
       "      <td>310.428571</td>\n",
       "      <td>42.0</td>\n",
       "      <td>260.357143</td>\n",
       "      <td>0.103173</td>\n",
       "    </tr>\n",
       "    <tr>\n",
       "      <th>3</th>\n",
       "      <td>310.428571</td>\n",
       "      <td>410.571429</td>\n",
       "      <td>31.0</td>\n",
       "      <td>360.500000</td>\n",
       "      <td>0.142857</td>\n",
       "    </tr>\n",
       "    <tr>\n",
       "      <th>4</th>\n",
       "      <td>410.571429</td>\n",
       "      <td>510.714286</td>\n",
       "      <td>11.0</td>\n",
       "      <td>460.642857</td>\n",
       "      <td>0.182541</td>\n",
       "    </tr>\n",
       "    <tr>\n",
       "      <th>5</th>\n",
       "      <td>510.714286</td>\n",
       "      <td>610.857143</td>\n",
       "      <td>0.0</td>\n",
       "      <td>560.785714</td>\n",
       "      <td>0.222225</td>\n",
       "    </tr>\n",
       "    <tr>\n",
       "      <th>6</th>\n",
       "      <td>610.857143</td>\n",
       "      <td>711.000000</td>\n",
       "      <td>2.0</td>\n",
       "      <td>660.928571</td>\n",
       "      <td>0.261909</td>\n",
       "    </tr>\n",
       "  </tbody>\n",
       "</table>\n",
       "</div>"
      ],
      "text/plain": [
       "        start         end  가구 수      median  contribution\n",
       "0   10.000000  110.142857   7.0   60.071429      0.023805\n",
       "1  110.142857  210.285714  15.0  160.214286      0.063489\n",
       "2  210.285714  310.428571  42.0  260.357143      0.103173\n",
       "3  310.428571  410.571429  31.0  360.500000      0.142857\n",
       "4  410.571429  510.714286  11.0  460.642857      0.182541\n",
       "5  510.714286  610.857143   0.0  560.785714      0.222225\n",
       "6  610.857143  711.000000   2.0  660.928571      0.261909"
      ]
     },
     "execution_count": 27,
     "metadata": {},
     "output_type": "execute_result"
    }
   ],
   "source": [
    "y, x = np.histogram(month_df['usage (kWh)'].values, bins=bins)\n",
    "hist_df = pd.DataFrame(columns=['start', 'end', '가구 수'])\n",
    "\n",
    "for idx, _x in enumerate(x[:-1]):\n",
    "    _y = y[idx]\n",
    "    \n",
    "    start = _x\n",
    "    end = x[idx + 1]\n",
    "    \n",
    "    hist_df = hist_df.append({\n",
    "        \"start\": start,\n",
    "        \"end\": end,\n",
    "        \"가구 수\": _y\n",
    "    }, ignore_index=True)\n",
    "    \n",
    "groups = np.array([])\n",
    "\n",
    "for usage in month_df['usage (kWh)']:\n",
    "    chk = []\n",
    "    \n",
    "    for idx, row in hist_df.iterrows():\n",
    "        start = row['start']\n",
    "        end = row['end']\n",
    "        \n",
    "        chk.append((usage >= start) and (usage <= end))\n",
    "\n",
    "    group_num = np.where(chk)[0][0]\n",
    "    groups = np.append(groups, group_num).astype(\"int\")\n",
    "    \n",
    "month_df['그룹 번호'] = groups\n",
    "# month_df.head(10)\n",
    "\n",
    "medians = []\n",
    "\n",
    "for idx, row in hist_df.iterrows():\n",
    "    start = row['start']\n",
    "    end = row['end']\n",
    "    \n",
    "    medians.append((start + end) / 2)\n",
    "    \n",
    "hist_df['median'] = medians\n",
    "hist_df_1_1 = hist_df.copy()\n",
    "\n",
    "median_total = hist_df['median'].sum()\n",
    "hist_df_1_1['contribution'] = hist_df_1_1['median'] / median_total\n",
    "hist_df_1_1"
   ]
  },
  {
   "cell_type": "code",
   "execution_count": 28,
   "id": "1b187ec9",
   "metadata": {},
   "outputs": [
    {
     "data": {
      "text/plain": [
       "실제 요금    2640560\n",
       "예측 요금    2639700\n",
       "오차           860\n",
       "dtype: int64"
      ]
     },
     "execution_count": 28,
     "metadata": {},
     "output_type": "execute_result"
    }
   ],
   "source": [
    "# 예측 시뮬레이션\n",
    "pp = PublicPredictor(\n",
    "    APT=APT,\n",
    "    month_df=month_df[['name', 'usage (kWh)']],\n",
    "    month=_month\n",
    ")\n",
    "pp.predict"
   ]
  },
  {
   "cell_type": "code",
   "execution_count": 29,
   "id": "15d30b90",
   "metadata": {},
   "outputs": [
    {
     "data": {
      "text/html": [
       "<div>\n",
       "<style scoped>\n",
       "    .dataframe tbody tr th:only-of-type {\n",
       "        vertical-align: middle;\n",
       "    }\n",
       "\n",
       "    .dataframe tbody tr th {\n",
       "        vertical-align: top;\n",
       "    }\n",
       "\n",
       "    .dataframe thead th {\n",
       "        text-align: right;\n",
       "    }\n",
       "</style>\n",
       "<table border=\"1\" class=\"dataframe\">\n",
       "  <thead>\n",
       "    <tr style=\"text-align: right;\">\n",
       "      <th></th>\n",
       "      <th>start</th>\n",
       "      <th>end</th>\n",
       "      <th>가구 수</th>\n",
       "      <th>median</th>\n",
       "      <th>공용부 기본요금</th>\n",
       "      <th>공용부 전력량요금</th>\n",
       "    </tr>\n",
       "  </thead>\n",
       "  <tbody>\n",
       "    <tr>\n",
       "      <th>0</th>\n",
       "      <td>10.000000</td>\n",
       "      <td>110.142857</td>\n",
       "      <td>7.0</td>\n",
       "      <td>60.071429</td>\n",
       "      <td>29764</td>\n",
       "      <td>116158</td>\n",
       "    </tr>\n",
       "    <tr>\n",
       "      <th>1</th>\n",
       "      <td>110.142857</td>\n",
       "      <td>210.285714</td>\n",
       "      <td>15.0</td>\n",
       "      <td>160.214286</td>\n",
       "      <td>63780</td>\n",
       "      <td>248910</td>\n",
       "    </tr>\n",
       "    <tr>\n",
       "      <th>2</th>\n",
       "      <td>210.285714</td>\n",
       "      <td>310.428571</td>\n",
       "      <td>42.0</td>\n",
       "      <td>260.357143</td>\n",
       "      <td>178584</td>\n",
       "      <td>696948</td>\n",
       "    </tr>\n",
       "    <tr>\n",
       "      <th>3</th>\n",
       "      <td>310.428571</td>\n",
       "      <td>410.571429</td>\n",
       "      <td>31.0</td>\n",
       "      <td>360.500000</td>\n",
       "      <td>131812</td>\n",
       "      <td>514414</td>\n",
       "    </tr>\n",
       "    <tr>\n",
       "      <th>4</th>\n",
       "      <td>410.571429</td>\n",
       "      <td>510.714286</td>\n",
       "      <td>11.0</td>\n",
       "      <td>460.642857</td>\n",
       "      <td>46772</td>\n",
       "      <td>182534</td>\n",
       "    </tr>\n",
       "    <tr>\n",
       "      <th>5</th>\n",
       "      <td>510.714286</td>\n",
       "      <td>610.857143</td>\n",
       "      <td>0.0</td>\n",
       "      <td>560.785714</td>\n",
       "      <td>0</td>\n",
       "      <td>0</td>\n",
       "    </tr>\n",
       "    <tr>\n",
       "      <th>6</th>\n",
       "      <td>610.857143</td>\n",
       "      <td>711.000000</td>\n",
       "      <td>2.0</td>\n",
       "      <td>660.928571</td>\n",
       "      <td>8504</td>\n",
       "      <td>33188</td>\n",
       "    </tr>\n",
       "  </tbody>\n",
       "</table>\n",
       "</div>"
      ],
      "text/plain": [
       "        start         end  가구 수      median  공용부 기본요금  공용부 전력량요금\n",
       "0   10.000000  110.142857   7.0   60.071429     29764     116158\n",
       "1  110.142857  210.285714  15.0  160.214286     63780     248910\n",
       "2  210.285714  310.428571  42.0  260.357143    178584     696948\n",
       "3  310.428571  410.571429  31.0  360.500000    131812     514414\n",
       "4  410.571429  510.714286  11.0  460.642857     46772     182534\n",
       "5  510.714286  610.857143   0.0  560.785714         0          0\n",
       "6  610.857143  711.000000   2.0  660.928571      8504      33188"
      ]
     },
     "execution_count": 29,
     "metadata": {},
     "output_type": "execute_result"
    }
   ],
   "source": [
    "col_df = hist_df\n",
    "\n",
    "col_df['공용부 기본요금'] = (round(pp.basic / len(month_df)) * col_df['가구 수']).round().astype(\"int\")\n",
    "col_df['공용부 전력량요금'] = round(pp.elec_rate / len(month_df)) * col_df['가구 수'].round().astype(\"int\")\n",
    "\n",
    "col_df"
   ]
  },
  {
   "cell_type": "code",
   "execution_count": 30,
   "id": "2193debf",
   "metadata": {},
   "outputs": [
    {
     "data": {
      "text/html": [
       "<div>\n",
       "<style scoped>\n",
       "    .dataframe tbody tr th:only-of-type {\n",
       "        vertical-align: middle;\n",
       "    }\n",
       "\n",
       "    .dataframe tbody tr th {\n",
       "        vertical-align: top;\n",
       "    }\n",
       "\n",
       "    .dataframe thead th {\n",
       "        text-align: right;\n",
       "    }\n",
       "</style>\n",
       "<table border=\"1\" class=\"dataframe\">\n",
       "  <thead>\n",
       "    <tr style=\"text-align: right;\">\n",
       "      <th></th>\n",
       "      <th>start</th>\n",
       "      <th>end</th>\n",
       "      <th>가구 수</th>\n",
       "      <th>median</th>\n",
       "      <th>contribution</th>\n",
       "      <th>공용부 기본요금</th>\n",
       "      <th>공용부 전력량요금</th>\n",
       "      <th>기여도 공용부 기본요금</th>\n",
       "      <th>기여도 공용부 전력량요금</th>\n",
       "      <th>기여도 공용부 요금</th>\n",
       "      <th>가구 별 분배가격</th>\n",
       "    </tr>\n",
       "  </thead>\n",
       "  <tbody>\n",
       "    <tr>\n",
       "      <th>0</th>\n",
       "      <td>10.000000</td>\n",
       "      <td>110.142857</td>\n",
       "      <td>7.0</td>\n",
       "      <td>60.071429</td>\n",
       "      <td>0.023805</td>\n",
       "      <td>29764</td>\n",
       "      <td>116158</td>\n",
       "      <td>709</td>\n",
       "      <td>2765</td>\n",
       "      <td>3474</td>\n",
       "      <td>496</td>\n",
       "    </tr>\n",
       "    <tr>\n",
       "      <th>1</th>\n",
       "      <td>110.142857</td>\n",
       "      <td>210.285714</td>\n",
       "      <td>15.0</td>\n",
       "      <td>160.214286</td>\n",
       "      <td>0.063489</td>\n",
       "      <td>63780</td>\n",
       "      <td>248910</td>\n",
       "      <td>4049</td>\n",
       "      <td>15803</td>\n",
       "      <td>19852</td>\n",
       "      <td>1323</td>\n",
       "    </tr>\n",
       "    <tr>\n",
       "      <th>2</th>\n",
       "      <td>210.285714</td>\n",
       "      <td>310.428571</td>\n",
       "      <td>42.0</td>\n",
       "      <td>260.357143</td>\n",
       "      <td>0.103173</td>\n",
       "      <td>178584</td>\n",
       "      <td>696948</td>\n",
       "      <td>18425</td>\n",
       "      <td>71906</td>\n",
       "      <td>90331</td>\n",
       "      <td>2151</td>\n",
       "    </tr>\n",
       "    <tr>\n",
       "      <th>3</th>\n",
       "      <td>310.428571</td>\n",
       "      <td>410.571429</td>\n",
       "      <td>31.0</td>\n",
       "      <td>360.500000</td>\n",
       "      <td>0.142857</td>\n",
       "      <td>131812</td>\n",
       "      <td>514414</td>\n",
       "      <td>18830</td>\n",
       "      <td>73488</td>\n",
       "      <td>92318</td>\n",
       "      <td>2978</td>\n",
       "    </tr>\n",
       "    <tr>\n",
       "      <th>4</th>\n",
       "      <td>410.571429</td>\n",
       "      <td>510.714286</td>\n",
       "      <td>11.0</td>\n",
       "      <td>460.642857</td>\n",
       "      <td>0.182541</td>\n",
       "      <td>46772</td>\n",
       "      <td>182534</td>\n",
       "      <td>8538</td>\n",
       "      <td>33320</td>\n",
       "      <td>41858</td>\n",
       "      <td>3805</td>\n",
       "    </tr>\n",
       "    <tr>\n",
       "      <th>6</th>\n",
       "      <td>610.857143</td>\n",
       "      <td>711.000000</td>\n",
       "      <td>2.0</td>\n",
       "      <td>660.928571</td>\n",
       "      <td>0.261909</td>\n",
       "      <td>8504</td>\n",
       "      <td>33188</td>\n",
       "      <td>2227</td>\n",
       "      <td>8692</td>\n",
       "      <td>10919</td>\n",
       "      <td>5460</td>\n",
       "    </tr>\n",
       "  </tbody>\n",
       "</table>\n",
       "</div>"
      ],
      "text/plain": [
       "        start         end  가구 수      median  contribution  공용부 기본요금  \\\n",
       "0   10.000000  110.142857   7.0   60.071429      0.023805     29764   \n",
       "1  110.142857  210.285714  15.0  160.214286      0.063489     63780   \n",
       "2  210.285714  310.428571  42.0  260.357143      0.103173    178584   \n",
       "3  310.428571  410.571429  31.0  360.500000      0.142857    131812   \n",
       "4  410.571429  510.714286  11.0  460.642857      0.182541     46772   \n",
       "6  610.857143  711.000000   2.0  660.928571      0.261909      8504   \n",
       "\n",
       "   공용부 전력량요금  기여도 공용부 기본요금  기여도 공용부 전력량요금  기여도 공용부 요금  가구 별 분배가격  \n",
       "0     116158           709           2765        3474        496  \n",
       "1     248910          4049          15803       19852       1323  \n",
       "2     696948         18425          71906       90331       2151  \n",
       "3     514414         18830          73488       92318       2978  \n",
       "4     182534          8538          33320       41858       3805  \n",
       "6      33188          2227           8692       10919       5460  "
      ]
     },
     "execution_count": 30,
     "metadata": {},
     "output_type": "execute_result"
    }
   ],
   "source": [
    "dist_1_1 = hist_df_1_1.copy()\n",
    "dist_1_1 = pd.concat([dist_1_1, col_df[col_df.columns[-2:]]], axis=1)\n",
    "dist_1_1 = dist_1_1[dist_1_1['가구 수'] > 0]\n",
    "\n",
    "dist_1_1['기여도 공용부 기본요금'] = (dist_1_1['공용부 기본요금'] * dist_1_1['contribution']).round().astype(\"int\")\n",
    "dist_1_1['기여도 공용부 전력량요금'] = (dist_1_1['공용부 전력량요금'] * dist_1_1['contribution']).round().astype(\"int\")\n",
    "dist_1_1['기여도 공용부 요금'] = dist_1_1['기여도 공용부 기본요금'] + dist_1_1['기여도 공용부 전력량요금']\n",
    "dist_1_1['가구 별 분배가격'] = (dist_1_1['기여도 공용부 요금'] / dist_1_1['가구 수']).round().astype(\"int\")\n",
    "\n",
    "dist_1_1"
   ]
  },
  {
   "cell_type": "code",
   "execution_count": 36,
   "id": "55cb1899",
   "metadata": {},
   "outputs": [],
   "source": [
    "per_basic = round(pp.basic / len(month_df))\n",
    "per_elec_rate = round(pp.elec_rate / len(month_df))"
   ]
  },
  {
   "cell_type": "code",
   "execution_count": 38,
   "id": "da21100e",
   "metadata": {},
   "outputs": [
    {
     "data": {
      "text/html": [
       "<div>\n",
       "<style scoped>\n",
       "    .dataframe tbody tr th:only-of-type {\n",
       "        vertical-align: middle;\n",
       "    }\n",
       "\n",
       "    .dataframe tbody tr th {\n",
       "        vertical-align: top;\n",
       "    }\n",
       "\n",
       "    .dataframe thead th {\n",
       "        text-align: right;\n",
       "    }\n",
       "</style>\n",
       "<table border=\"1\" class=\"dataframe\">\n",
       "  <thead>\n",
       "    <tr style=\"text-align: right;\">\n",
       "      <th></th>\n",
       "      <th>name</th>\n",
       "      <th>usage (kWh)</th>\n",
       "      <th>그룹 번호</th>\n",
       "      <th>공용부 기본요금</th>\n",
       "      <th>공용부 전력량요금</th>\n",
       "    </tr>\n",
       "  </thead>\n",
       "  <tbody>\n",
       "    <tr>\n",
       "      <th>0</th>\n",
       "      <td>아파트1-101-1002</td>\n",
       "      <td>253</td>\n",
       "      <td>2</td>\n",
       "      <td>439</td>\n",
       "      <td>1712</td>\n",
       "    </tr>\n",
       "    <tr>\n",
       "      <th>1</th>\n",
       "      <td>아파트1-101-104</td>\n",
       "      <td>689</td>\n",
       "      <td>6</td>\n",
       "      <td>1114</td>\n",
       "      <td>4346</td>\n",
       "    </tr>\n",
       "    <tr>\n",
       "      <th>2</th>\n",
       "      <td>아파트1-101-1102</td>\n",
       "      <td>183</td>\n",
       "      <td>1</td>\n",
       "      <td>270</td>\n",
       "      <td>1054</td>\n",
       "    </tr>\n",
       "    <tr>\n",
       "      <th>3</th>\n",
       "      <td>아파트1-101-1202</td>\n",
       "      <td>239</td>\n",
       "      <td>2</td>\n",
       "      <td>439</td>\n",
       "      <td>1712</td>\n",
       "    </tr>\n",
       "    <tr>\n",
       "      <th>4</th>\n",
       "      <td>아파트1-101-1302</td>\n",
       "      <td>455</td>\n",
       "      <td>4</td>\n",
       "      <td>776</td>\n",
       "      <td>3029</td>\n",
       "    </tr>\n",
       "    <tr>\n",
       "      <th>5</th>\n",
       "      <td>아파트1-101-1401</td>\n",
       "      <td>343</td>\n",
       "      <td>3</td>\n",
       "      <td>607</td>\n",
       "      <td>2371</td>\n",
       "    </tr>\n",
       "    <tr>\n",
       "      <th>6</th>\n",
       "      <td>아파트1-101-1403</td>\n",
       "      <td>380</td>\n",
       "      <td>3</td>\n",
       "      <td>607</td>\n",
       "      <td>2371</td>\n",
       "    </tr>\n",
       "    <tr>\n",
       "      <th>7</th>\n",
       "      <td>아파트1-101-1502</td>\n",
       "      <td>219</td>\n",
       "      <td>2</td>\n",
       "      <td>439</td>\n",
       "      <td>1712</td>\n",
       "    </tr>\n",
       "    <tr>\n",
       "      <th>8</th>\n",
       "      <td>아파트1-101-1504</td>\n",
       "      <td>389</td>\n",
       "      <td>3</td>\n",
       "      <td>607</td>\n",
       "      <td>2371</td>\n",
       "    </tr>\n",
       "    <tr>\n",
       "      <th>9</th>\n",
       "      <td>아파트1-101-1602</td>\n",
       "      <td>350</td>\n",
       "      <td>3</td>\n",
       "      <td>607</td>\n",
       "      <td>2371</td>\n",
       "    </tr>\n",
       "  </tbody>\n",
       "</table>\n",
       "</div>"
      ],
      "text/plain": [
       "            name  usage (kWh)  그룹 번호  공용부 기본요금  공용부 전력량요금\n",
       "0  아파트1-101-1002          253      2       439       1712\n",
       "1   아파트1-101-104          689      6      1114       4346\n",
       "2  아파트1-101-1102          183      1       270       1054\n",
       "3  아파트1-101-1202          239      2       439       1712\n",
       "4  아파트1-101-1302          455      4       776       3029\n",
       "5  아파트1-101-1401          343      3       607       2371\n",
       "6  아파트1-101-1403          380      3       607       2371\n",
       "7  아파트1-101-1502          219      2       439       1712\n",
       "8  아파트1-101-1504          389      3       607       2371\n",
       "9  아파트1-101-1602          350      3       607       2371"
      ]
     },
     "execution_count": 38,
     "metadata": {},
     "output_type": "execute_result"
    }
   ],
   "source": [
    "dist_cont_1_1 = month_df.copy()\n",
    "\n",
    "dist_cont_1_1['공용부 기본요금'] = dist_cont_1_1['그룹 번호'].map(\n",
    "    lambda x: round(dist_1_1.loc[x]['기여도 공용부 기본요금'] / dist_1_1.loc[x]['가구 수'])\n",
    ")\n",
    "dist_cont_1_1['공용부 전력량요금'] = dist_cont_1_1['그룹 번호'].map(\n",
    "    lambda x: round(dist_1_1.loc[x]['기여도 공용부 전력량요금'] / dist_1_1.loc[x]['가구 수'])\n",
    ")\n",
    "    \n",
    "dist_cont_1_1.head(10)"
   ]
  },
  {
   "cell_type": "markdown",
   "id": "876d1208",
   "metadata": {},
   "source": [
    "## 기본요금 수거부담율 확인"
   ]
  },
  {
   "cell_type": "code",
   "execution_count": 52,
   "id": "4abaf0ab",
   "metadata": {},
   "outputs": [],
   "source": [
    "basic_col_burden = list()\n",
    "basic_col = list()\n",
    "now_apt_step = 0\n",
    "APT_mean = round(APT / len(month_df))\n",
    "\n",
    "for step,_ in enumerate(fee):\n",
    "    if APT_mean < _[1]:\n",
    "        now_apt_step = step\n",
    "        break\n",
    "        \n",
    "for idx, row in dist_cont_1_1.iterrows():    \n",
    "    usage = row['usage (kWh)']\n",
    "    public_sale = row['공용부 기본요금']\n",
    "    _basic = per_basic - public_sale\n",
    "    for _ in fee:\n",
    "        if usage < _[1]:\n",
    "            _basic += _[2]\n",
    "            basic_col_burden.append(fee[now_apt_step][2] / _basic)\n",
    "            basic_col.append(_basic)\n",
    "            break"
   ]
  },
  {
   "cell_type": "code",
   "execution_count": 53,
   "id": "9af2373b",
   "metadata": {},
   "outputs": [
    {
     "data": {
      "image/png": "[encoded data removed]",
      "text/plain": [
       "<Figure size 1152x576 with 1 Axes>"
      ]
     },
     "metadata": {
      "needs_background": "light"
     },
     "output_type": "display_data"
    }
   ],
   "source": [
    "plt.figure(figsize=(16,8))\n",
    "\n",
    "plt.bar(range(len(month_df)),fee[now_apt_step][2], label='수거필요 기본요금', color='r')\n",
    "plt.bar(range(len(month_df)),basic_col, label='수거 기본요금', color='b')\n",
    "\n",
    "plt.title(\"기본요금 수거현황\")\n",
    "plt.legend()\n",
    "plt.yticks([0, 4000, 8000])\n",
    "plt.ylabel(\"가격\")\n",
    "\n",
    "plt.show()"
   ]
  },
  {
   "cell_type": "code",
   "execution_count": 54,
   "id": "f81dc38a",
   "metadata": {},
   "outputs": [
    {
     "data": {
      "image/png": "[encoded data removed]",
      "text/plain": [
       "<Figure size 1152x288 with 1 Axes>"
      ]
     },
     "metadata": {
      "needs_background": "light"
     },
     "output_type": "display_data"
    }
   ],
   "source": [
    "plt.figure(figsize=(16,4))\n",
    "\n",
    "plt.bar(range(len(month_df)),basic_col_burden, label='수거부담율', color='b')\n",
    "plt.title(\"기본요금 수거부담율 현황\")\n",
    "plt.legend()\n",
    "plt.yticks([0, 5, 10])\n",
    "plt.ylabel(\"수거부담율\")\n",
    "\n",
    "plt.show()"
   ]
  },
  {
   "cell_type": "markdown",
   "id": "36ec45ab",
   "metadata": {},
   "source": [
    "## 전력량요금 수거부담율"
   ]
  },
  {
   "cell_type": "code",
   "execution_count": 55,
   "id": "db586db5",
   "metadata": {},
   "outputs": [],
   "source": [
    "households_mean = round(month_df['usage (kWh)'].mean())\n",
    "APT_mean = round(APT / len(month_df))\n",
    "\n",
    "households_col = get_col_list(households_mean, fee)\n",
    "APT_col = get_col_list(APT_mean, fee)\n",
    "public_col = APT_col - households_col\n",
    "public_mem = get_step_mem(public_col, fee)\n",
    "col_burden_list = list()\n",
    "\n",
    "for idx, row in dist_cont_1_1.iterrows():    \n",
    "    usage = row['usage (kWh)']\n",
    "    public_sale = row['공용부 전력량요금']\n",
    "    _elec_rate = per_elec_rate - public_sale\n",
    "    \n",
    "    chk_households_col = get_col_list(usage, fee)\n",
    "    _APT_mean = usage + public_col.sum()\n",
    "\n",
    "    chk_APT_col = get_col_list(_APT_mean, fee)\n",
    "    chk_public_col = chk_APT_col - chk_households_col\n",
    "    chk_public_mem = get_step_mem(chk_public_col, fee)\n",
    "    \n",
    "    my_er = chk_public_mem[-1] + _elec_rate\n",
    "    public_er = public_mem[-1]\n",
    "    \n",
    "    col_burden = public_er / my_er\n",
    "    \n",
    "    col_burden_list.append(col_burden)"
   ]
  },
  {
   "cell_type": "code",
   "execution_count": 60,
   "id": "5ecef9d2",
   "metadata": {},
   "outputs": [
    {
     "data": {
      "image/png": "[encoded data removed]",
      "text/plain": [
       "<Figure size 1152x288 with 1 Axes>"
      ]
     },
     "metadata": {
      "needs_background": "light"
     },
     "output_type": "display_data"
    }
   ],
   "source": [
    "plt.figure(figsize=(16,4))\n",
    "\n",
    "plt.bar(range(len(col_burden_list)), col_burden_list, color='g', label='수거부담율')\n",
    "plt.yticks(np.arange(0, 2.1, 0.25))\n",
    "plt.title(\"전력량요금 수거부담율 현황\")\n",
    "\n",
    "plt.legend()\n",
    "\n",
    "plt.show()"
   ]
  }
 ],
 "metadata": {
  "kernelspec": {
   "display_name": "Python 3 (ipykernel)",
   "language": "python",
   "name": "python3"
  },
  "language_info": {
   "codemirror_mode": {
    "name": "ipython",
    "version": 3
   },
   "file_extension": ".py",
   "mimetype": "text/x-python",
   "name": "python",
   "nbconvert_exporter": "python",
   "pygments_lexer": "ipython3",
   "version": "3.8.12"
  }
 },
 "nbformat": 4,
 "nbformat_minor": 5
}
