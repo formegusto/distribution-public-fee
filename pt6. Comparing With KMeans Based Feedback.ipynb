{
 "cells": [
  {
   "cell_type": "code",
   "execution_count": 1,
   "id": "f28c9547",
   "metadata": {},
   "outputs": [],
   "source": [
    "%load_ext autoreload\n",
    "%autoreload 2\n",
    "%reload_ext autoreload"
   ]
  },
  {
   "cell_type": "code",
   "execution_count": 2,
   "id": "dbf6cac8",
   "metadata": {},
   "outputs": [],
   "source": [
    "import pandas as pd\n",
    "import numpy as np\n",
    "%matplotlib inline\n",
    "import matplotlib\n",
    "import matplotlib.pyplot as plt\n",
    "import math as mt\n",
    "import warnings\n",
    "\n",
    "# 한글출력\n",
    "matplotlib.rc('font', family='AppleGothic')\n",
    "plt.rcParams['axes.unicode_minus'] = False\n",
    "warnings.filterwarnings(action='ignore') \n",
    "\n",
    "from src import crs, PublicPredictor\n",
    "from src.dbc import utils\n",
    "from IPython.display import clear_output"
   ]
  },
  {
   "cell_type": "code",
   "execution_count": 3,
   "id": "64817b27",
   "metadata": {},
   "outputs": [
    {
     "data": {
      "text/plain": [
       "13330"
      ]
     },
     "execution_count": 3,
     "metadata": {},
     "output_type": "execute_result"
    }
   ],
   "source": [
    "# 1. load_excel\n",
    "data_path = \"data/apt_1.xlsx\"\n",
    "xlsx = pd.read_excel(data_path, header=None,\n",
    "                     skiprows=2, engine=\"openpyxl\")\n",
    "\n",
    "# 2. data preprocessing\n",
    "p, m = crs.utils.data_preprocessing(xlsx)\n",
    "\n",
    "m.set_index(\"month\", inplace=True)\n",
    "\n",
    "# 3. data init\n",
    "_month = 1\n",
    "\n",
    "month_df = pd.DataFrame(m.loc[_month])\n",
    "month_df.reset_index(inplace=True)\n",
    "\n",
    "month_df.columns = ['name', 'usage (kWh)']\n",
    "\n",
    "PUBLIC_PERCENTAGE = 30\n",
    "APT = crs.utils.get_APT(month_df, PUBLIC_PERCENTAGE)\n",
    "\n",
    "calc = crs.models.ManagementOffice(\n",
    "        month=_month,\n",
    "        households=month_df,\n",
    "        APT=APT,\n",
    "        contract=\"단일계약\"\n",
    "    )\n",
    "apt = calc.apart\n",
    "\n",
    "public_kwh = APT - month_df['usage (kWh)'].sum()\n",
    "public_kwh"
   ]
  },
  {
   "cell_type": "code",
   "execution_count": 10,
   "id": "84a878b0",
   "metadata": {},
   "outputs": [
    {
     "name": "stdout",
     "output_type": "stream",
     "text": [
      "ECV : 51 %\n",
      "이상패턴 조정 확인 True\n"
     ]
    },
    {
     "data": {
      "text/html": [
       "<div>\n",
       "<style scoped>\n",
       "    .dataframe tbody tr th:only-of-type {\n",
       "        vertical-align: middle;\n",
       "    }\n",
       "\n",
       "    .dataframe tbody tr th {\n",
       "        vertical-align: top;\n",
       "    }\n",
       "\n",
       "    .dataframe thead th {\n",
       "        text-align: right;\n",
       "    }\n",
       "</style>\n",
       "<table border=\"1\" class=\"dataframe\">\n",
       "  <thead>\n",
       "    <tr style=\"text-align: right;\">\n",
       "      <th></th>\n",
       "      <th>name</th>\n",
       "      <th>usage (kWh)</th>\n",
       "      <th>label</th>\n",
       "    </tr>\n",
       "  </thead>\n",
       "  <tbody>\n",
       "    <tr>\n",
       "      <th>0</th>\n",
       "      <td>아파트1-104-1206</td>\n",
       "      <td>99</td>\n",
       "      <td>0</td>\n",
       "    </tr>\n",
       "    <tr>\n",
       "      <th>1</th>\n",
       "      <td>아파트1-104-303</td>\n",
       "      <td>10</td>\n",
       "      <td>0</td>\n",
       "    </tr>\n",
       "    <tr>\n",
       "      <th>2</th>\n",
       "      <td>아파트1-104-1307</td>\n",
       "      <td>23</td>\n",
       "      <td>0</td>\n",
       "    </tr>\n",
       "    <tr>\n",
       "      <th>3</th>\n",
       "      <td>아파트1-104-1208</td>\n",
       "      <td>40</td>\n",
       "      <td>0</td>\n",
       "    </tr>\n",
       "    <tr>\n",
       "      <th>4</th>\n",
       "      <td>아파트1-104-408</td>\n",
       "      <td>39</td>\n",
       "      <td>0</td>\n",
       "    </tr>\n",
       "  </tbody>\n",
       "</table>\n",
       "</div>"
      ],
      "text/plain": [
       "            name  usage (kWh)  label\n",
       "0  아파트1-104-1206           99      0\n",
       "1   아파트1-104-303           10      0\n",
       "2  아파트1-104-1307           23      0\n",
       "3  아파트1-104-1208           40      0\n",
       "4   아파트1-104-408           39      0"
      ]
     },
     "execution_count": 10,
     "metadata": {},
     "output_type": "execute_result"
    }
   ],
   "source": [
    "from src import SavingFeedback\n",
    "\n",
    "# 1. Data Pre-processing\n",
    "ksf = SavingFeedback(xlsx)\n",
    "ksf.select_month(1)\n",
    "\n",
    "# 2. KMeans Run\n",
    "ksf.kmeans_run()\n",
    "\n",
    "# 3. adjust anomaly\n",
    "ksf.adjust_anomaly()\n",
    "anomaly = ksf.check_anomaly()\n",
    "print(\"이상패턴 조정 확인\", len(anomaly) == 0)\n",
    "\n",
    "time_size = 3\n",
    "\n",
    "ksf.time_based_grouping(time_size)\n",
    "ksf.feedback()\n",
    "ksf.result()\n",
    "\n",
    "kmeans_time_group = ksf.new_group.copy()\n",
    "kmeans_time_group.head()"
   ]
  },
  {
   "cell_type": "code",
   "execution_count": 30,
   "id": "b9b85f17",
   "metadata": {},
   "outputs": [
    {
     "data": {
      "text/plain": [
       "231"
      ]
     },
     "execution_count": 30,
     "metadata": {},
     "output_type": "execute_result"
    }
   ],
   "source": [
    "round(kmeans_time_group['usage (kWh)'].mean())"
   ]
  },
  {
   "cell_type": "code",
   "execution_count": 13,
   "id": "aec2bdd4",
   "metadata": {},
   "outputs": [
    {
     "data": {
      "text/html": [
       "<div>\n",
       "<style scoped>\n",
       "    .dataframe tbody tr th:only-of-type {\n",
       "        vertical-align: middle;\n",
       "    }\n",
       "\n",
       "    .dataframe tbody tr th {\n",
       "        vertical-align: top;\n",
       "    }\n",
       "\n",
       "    .dataframe thead th {\n",
       "        text-align: right;\n",
       "    }\n",
       "</style>\n",
       "<table border=\"1\" class=\"dataframe\">\n",
       "  <thead>\n",
       "    <tr style=\"text-align: right;\">\n",
       "      <th></th>\n",
       "      <th>name</th>\n",
       "      <th>usage (kWh)</th>\n",
       "      <th>label</th>\n",
       "    </tr>\n",
       "  </thead>\n",
       "  <tbody>\n",
       "    <tr>\n",
       "      <th>0</th>\n",
       "      <td>아파트1-104-1206</td>\n",
       "      <td>99</td>\n",
       "      <td>0</td>\n",
       "    </tr>\n",
       "    <tr>\n",
       "      <th>1</th>\n",
       "      <td>아파트1-104-303</td>\n",
       "      <td>10</td>\n",
       "      <td>0</td>\n",
       "    </tr>\n",
       "    <tr>\n",
       "      <th>2</th>\n",
       "      <td>아파트1-104-1307</td>\n",
       "      <td>23</td>\n",
       "      <td>0</td>\n",
       "    </tr>\n",
       "    <tr>\n",
       "      <th>3</th>\n",
       "      <td>아파트1-104-1208</td>\n",
       "      <td>40</td>\n",
       "      <td>0</td>\n",
       "    </tr>\n",
       "    <tr>\n",
       "      <th>4</th>\n",
       "      <td>아파트1-104-408</td>\n",
       "      <td>39</td>\n",
       "      <td>0</td>\n",
       "    </tr>\n",
       "  </tbody>\n",
       "</table>\n",
       "</div>"
      ],
      "text/plain": [
       "            name  usage (kWh)  label\n",
       "0  아파트1-104-1206           99      0\n",
       "1   아파트1-104-303           10      0\n",
       "2  아파트1-104-1307           23      0\n",
       "3  아파트1-104-1208           40      0\n",
       "4   아파트1-104-408           39      0"
      ]
     },
     "execution_count": 13,
     "metadata": {},
     "output_type": "execute_result"
    }
   ],
   "source": [
    "tsf = SavingFeedback(xlsx, _type=\"tdkmeans\")\n",
    "\n",
    "tsf.select_month(1)\n",
    "tsf.kmeans_run()\n",
    "\n",
    "tsf.adjust_anomaly()\n",
    "anomaly = tsf.check_anomaly()\n",
    "print(\"이상패턴 조정 확인\", len(anomaly) == 0)\n",
    "\n",
    "time_size = 3\n",
    "\n",
    "tsf.time_based_grouping(time_size)\n",
    "tsf.feedback()\n",
    "tsf.result()\n",
    "\n",
    "tdkmeans_time_group = tsf.new_group.copy()\n",
    "\n",
    "\n",
    "clear_output(wait=True)\n",
    "tdkmeans_time_group.head()"
   ]
  },
  {
   "cell_type": "code",
   "execution_count": 16,
   "id": "113a065d",
   "metadata": {},
   "outputs": [
    {
     "data": {
      "text/plain": [
       "241"
      ]
     },
     "execution_count": 16,
     "metadata": {},
     "output_type": "execute_result"
    }
   ],
   "source": [
    "round(tdkmeans_time_group['usage (kWh)'].mean())"
   ]
  },
  {
   "cell_type": "code",
   "execution_count": 32,
   "id": "1055597f",
   "metadata": {},
   "outputs": [
    {
     "name": "stdout",
     "output_type": "stream",
     "text": [
      "38296 39307\n"
     ]
    }
   ],
   "source": [
    "kmeans_APT = round(kmeans_time_group['usage (kWh)'].sum()) + public_kwh\n",
    "tdkmeans_APT = round(tdkmeans_time_group['usage (kWh)'].sum()) + public_kwh\n",
    "\n",
    "print(kmeans_APT, tdkmeans_APT)"
   ]
  },
  {
   "cell_type": "code",
   "execution_count": 36,
   "id": "2a9590c6",
   "metadata": {},
   "outputs": [],
   "source": [
    "kmeans_calc = crs.models.ManagementOffice(\n",
    "    month=_month,\n",
    "    households=kmeans_time_group.copy(),\n",
    "    APT=kmeans_APT,\n",
    "    contract='단일계약'\n",
    ")\n",
    "tdkmeans_calc = crs.models.ManagementOffice(\n",
    "    month=_month,\n",
    "    households=tdkmeans_time_group.copy(),\n",
    "    APT=tdkmeans_APT,\n",
    "    contract='단일계약'\n",
    ")"
   ]
  },
  {
   "cell_type": "code",
   "execution_count": 45,
   "id": "7d26018b",
   "metadata": {},
   "outputs": [
    {
     "name": "stdout",
     "output_type": "stream",
     "text": [
      "411 355 364\n",
      "288 231 241\n",
      "6439540 4763500 4923370\n",
      "3798980 2637760 2871750\n",
      "2640560 2125740 2051620\n"
     ]
    }
   ],
   "source": [
    "# APT 평균 사용량\n",
    "print(calc.apart.kwh, kmeans_calc.apart.kwh, tdkmeans_calc.apart.kwh)\n",
    "\n",
    "# 세대부 평균 사용량\n",
    "print(round(month_df['usage (kWh)'].mean()),\n",
    "     round(kmeans_time_group['usage (kWh)'].mean()),\n",
    "     round(tdkmeans_time_group['usage (kWh)'].mean()))\n",
    "\n",
    "\n",
    "# 아파트 전체요금\n",
    "print(calc.bill, kmeans_calc.bill, tdkmeans_calc.bill)\n",
    "\n",
    "# 세대부 전체요금\n",
    "print(calc.bill - calc.public_bill,\n",
    "     kmeans_calc.bill - kmeans_calc.public_bill,\n",
    "     tdkmeans_calc.bill - tdkmeans_calc.public_bill)\n",
    "\n",
    "# 공용부 요금\n",
    "print(calc.public_bill,\n",
    "     kmeans_calc.public_bill,\n",
    "     tdkmeans_calc.public_bill)"
   ]
  },
  {
   "cell_type": "code",
   "execution_count": null,
   "id": "ef8eef80",
   "metadata": {},
   "outputs": [],
   "source": []
  },
  {
   "cell_type": "code",
   "execution_count": null,
   "id": "3b409c50",
   "metadata": {},
   "outputs": [],
   "source": []
  }
 ],
 "metadata": {
  "kernelspec": {
   "display_name": "Python 3 (ipykernel)",
   "language": "python",
   "name": "python3"
  },
  "language_info": {
   "codemirror_mode": {
    "name": "ipython",
    "version": 3
   },
   "file_extension": ".py",
   "mimetype": "text/x-python",
   "name": "python",
   "nbconvert_exporter": "python",
   "pygments_lexer": "ipython3",
   "version": "3.8.12"
  }
 },
 "nbformat": 4,
 "nbformat_minor": 5
}
