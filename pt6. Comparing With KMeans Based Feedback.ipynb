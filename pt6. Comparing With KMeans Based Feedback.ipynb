{
 "cells": [
  {
   "cell_type": "code",
   "execution_count": 1,
   "id": "10da175c",
   "metadata": {},
   "outputs": [],
   "source": [
    "%load_ext autoreload\n",
    "%autoreload 2\n",
    "%reload_ext autoreload"
   ]
  },
  {
   "cell_type": "code",
   "execution_count": 2,
   "id": "03e1ed9a",
   "metadata": {},
   "outputs": [],
   "source": [
    "import pandas as pd\n",
    "import numpy as np\n",
    "%matplotlib inline\n",
    "import matplotlib\n",
    "import matplotlib.pyplot as plt\n",
    "import math as mt\n",
    "import warnings\n",
    "\n",
    "# 한글출력\n",
    "matplotlib.rc('font', family='AppleGothic')\n",
    "plt.rcParams['axes.unicode_minus'] = False\n",
    "warnings.filterwarnings(action='ignore') \n",
    "\n",
    "from src import crs, PublicPredictor\n",
    "from src.dbc import utils\n",
    "from IPython.display import clear_output"
   ]
  },
  {
   "cell_type": "code",
   "execution_count": 3,
   "id": "e1adebce",
   "metadata": {},
   "outputs": [
    {
     "data": {
      "text/plain": [
       "13330"
      ]
     },
     "execution_count": 3,
     "metadata": {},
     "output_type": "execute_result"
    }
   ],
   "source": [
    "# 1. load_excel\n",
    "data_path = \"data/apt_1.xlsx\"\n",
    "xlsx = pd.read_excel(data_path, header=None,\n",
    "                     skiprows=2, engine=\"openpyxl\")\n",
    "\n",
    "# 2. data preprocessing\n",
    "p, m = crs.utils.data_preprocessing(xlsx)\n",
    "\n",
    "m.set_index(\"month\", inplace=True)\n",
    "\n",
    "# 3. data init\n",
    "_month = 1\n",
    "\n",
    "month_df = pd.DataFrame(m.loc[_month])\n",
    "month_df.reset_index(inplace=True)\n",
    "\n",
    "month_df.columns = ['name', 'usage (kWh)']\n",
    "\n",
    "PUBLIC_PERCENTAGE = 30\n",
    "APT = crs.utils.get_APT(month_df, PUBLIC_PERCENTAGE)\n",
    "\n",
    "calc = crs.models.ManagementOffice(\n",
    "        month=_month,\n",
    "        households=month_df,\n",
    "        APT=APT,\n",
    "        contract=\"단일계약\"\n",
    "    )\n",
    "apt = calc.apart\n",
    "\n",
    "public_kwh = APT - month_df['usage (kWh)'].sum()\n",
    "public_kwh"
   ]
  },
  {
   "cell_type": "code",
   "execution_count": 10,
   "id": "917d4eef",
   "metadata": {},
   "outputs": [
    {
     "name": "stdout",
     "output_type": "stream",
     "text": [
      "ECV : 51 %\n",
      "이상패턴 조정 확인 True\n"
     ]
    },
    {
     "data": {
      "text/html": [
       "<div>\n",
       "<style scoped>\n",
       "    .dataframe tbody tr th:only-of-type {\n",
       "        vertical-align: middle;\n",
       "    }\n",
       "\n",
       "    .dataframe tbody tr th {\n",
       "        vertical-align: top;\n",
       "    }\n",
       "\n",
       "    .dataframe thead th {\n",
       "        text-align: right;\n",
       "    }\n",
       "</style>\n",
       "<table border=\"1\" class=\"dataframe\">\n",
       "  <thead>\n",
       "    <tr style=\"text-align: right;\">\n",
       "      <th></th>\n",
       "      <th>name</th>\n",
       "      <th>usage (kWh)</th>\n",
       "      <th>label</th>\n",
       "    </tr>\n",
       "  </thead>\n",
       "  <tbody>\n",
       "    <tr>\n",
       "      <th>0</th>\n",
       "      <td>아파트1-104-1206</td>\n",
       "      <td>99</td>\n",
       "      <td>0</td>\n",
       "    </tr>\n",
       "    <tr>\n",
       "      <th>1</th>\n",
       "      <td>아파트1-104-303</td>\n",
       "      <td>10</td>\n",
       "      <td>0</td>\n",
       "    </tr>\n",
       "    <tr>\n",
       "      <th>2</th>\n",
       "      <td>아파트1-104-1307</td>\n",
       "      <td>23</td>\n",
       "      <td>0</td>\n",
       "    </tr>\n",
       "    <tr>\n",
       "      <th>3</th>\n",
       "      <td>아파트1-104-1208</td>\n",
       "      <td>40</td>\n",
       "      <td>0</td>\n",
       "    </tr>\n",
       "    <tr>\n",
       "      <th>4</th>\n",
       "      <td>아파트1-104-408</td>\n",
       "      <td>39</td>\n",
       "      <td>0</td>\n",
       "    </tr>\n",
       "  </tbody>\n",
       "</table>\n",
       "</div>"
      ],
      "text/plain": [
       "            name  usage (kWh)  label\n",
       "0  아파트1-104-1206           99      0\n",
       "1   아파트1-104-303           10      0\n",
       "2  아파트1-104-1307           23      0\n",
       "3  아파트1-104-1208           40      0\n",
       "4   아파트1-104-408           39      0"
      ]
     },
     "execution_count": 10,
     "metadata": {},
     "output_type": "execute_result"
    }
   ],
   "source": [
    "from src import SavingFeedback\n",
    "\n",
    "# 1. Data Pre-processing\n",
    "ksf = SavingFeedback(xlsx)\n",
    "ksf.select_month(1)\n",
    "\n",
    "# 2. KMeans Run\n",
    "ksf.kmeans_run()\n",
    "\n",
    "# 3. adjust anomaly\n",
    "ksf.adjust_anomaly()\n",
    "anomaly = ksf.check_anomaly()\n",
    "print(\"이상패턴 조정 확인\", len(anomaly) == 0)\n",
    "\n",
    "time_size = 3\n",
    "\n",
    "ksf.time_based_grouping(time_size)\n",
    "ksf.feedback()\n",
    "ksf.result()\n",
    "\n",
    "kmeans_time_group = ksf.new_group.copy()\n",
    "kmeans_time_group.head()"
   ]
  },
  {
   "cell_type": "code",
   "execution_count": 30,
   "id": "dd2bd1c6",
   "metadata": {},
   "outputs": [
    {
     "data": {
      "text/plain": [
       "231"
      ]
     },
     "execution_count": 30,
     "metadata": {},
     "output_type": "execute_result"
    }
   ],
   "source": [
    "round(kmeans_time_group['usage (kWh)'].mean())"
   ]
  },
  {
   "cell_type": "code",
   "execution_count": 13,
   "id": "6a5be9b7",
   "metadata": {},
   "outputs": [
    {
     "data": {
      "text/html": [
       "<div>\n",
       "<style scoped>\n",
       "    .dataframe tbody tr th:only-of-type {\n",
       "        vertical-align: middle;\n",
       "    }\n",
       "\n",
       "    .dataframe tbody tr th {\n",
       "        vertical-align: top;\n",
       "    }\n",
       "\n",
       "    .dataframe thead th {\n",
       "        text-align: right;\n",
       "    }\n",
       "</style>\n",
       "<table border=\"1\" class=\"dataframe\">\n",
       "  <thead>\n",
       "    <tr style=\"text-align: right;\">\n",
       "      <th></th>\n",
       "      <th>name</th>\n",
       "      <th>usage (kWh)</th>\n",
       "      <th>label</th>\n",
       "    </tr>\n",
       "  </thead>\n",
       "  <tbody>\n",
       "    <tr>\n",
       "      <th>0</th>\n",
       "      <td>아파트1-104-1206</td>\n",
       "      <td>99</td>\n",
       "      <td>0</td>\n",
       "    </tr>\n",
       "    <tr>\n",
       "      <th>1</th>\n",
       "      <td>아파트1-104-303</td>\n",
       "      <td>10</td>\n",
       "      <td>0</td>\n",
       "    </tr>\n",
       "    <tr>\n",
       "      <th>2</th>\n",
       "      <td>아파트1-104-1307</td>\n",
       "      <td>23</td>\n",
       "      <td>0</td>\n",
       "    </tr>\n",
       "    <tr>\n",
       "      <th>3</th>\n",
       "      <td>아파트1-104-1208</td>\n",
       "      <td>40</td>\n",
       "      <td>0</td>\n",
       "    </tr>\n",
       "    <tr>\n",
       "      <th>4</th>\n",
       "      <td>아파트1-104-408</td>\n",
       "      <td>39</td>\n",
       "      <td>0</td>\n",
       "    </tr>\n",
       "  </tbody>\n",
       "</table>\n",
       "</div>"
      ],
      "text/plain": [
       "            name  usage (kWh)  label\n",
       "0  아파트1-104-1206           99      0\n",
       "1   아파트1-104-303           10      0\n",
       "2  아파트1-104-1307           23      0\n",
       "3  아파트1-104-1208           40      0\n",
       "4   아파트1-104-408           39      0"
      ]
     },
     "execution_count": 13,
     "metadata": {},
     "output_type": "execute_result"
    }
   ],
   "source": [
    "tsf = SavingFeedback(xlsx, _type=\"tdkmeans\")\n",
    "\n",
    "tsf.select_month(1)\n",
    "tsf.kmeans_run()\n",
    "\n",
    "tsf.adjust_anomaly()\n",
    "anomaly = tsf.check_anomaly()\n",
    "print(\"이상패턴 조정 확인\", len(anomaly) == 0)\n",
    "\n",
    "time_size = 3\n",
    "\n",
    "tsf.time_based_grouping(time_size)\n",
    "tsf.feedback()\n",
    "tsf.result()\n",
    "\n",
    "tdkmeans_time_group = tsf.new_group.copy()\n",
    "\n",
    "\n",
    "clear_output(wait=True)\n",
    "tdkmeans_time_group.head()"
   ]
  },
  {
   "cell_type": "code",
   "execution_count": 16,
   "id": "e231e19e",
   "metadata": {},
   "outputs": [
    {
     "data": {
      "text/plain": [
       "241"
      ]
     },
     "execution_count": 16,
     "metadata": {},
     "output_type": "execute_result"
    }
   ],
   "source": [
    "round(tdkmeans_time_group['usage (kWh)'].mean())"
   ]
  },
  {
   "cell_type": "code",
   "execution_count": 32,
   "id": "e0788617",
   "metadata": {},
   "outputs": [
    {
     "name": "stdout",
     "output_type": "stream",
     "text": [
      "38296 39307\n"
     ]
    }
   ],
   "source": [
    "kmeans_APT = round(kmeans_time_group['usage (kWh)'].sum()) + public_kwh\n",
    "tdkmeans_APT = round(tdkmeans_time_group['usage (kWh)'].sum()) + public_kwh\n",
    "\n",
    "print(kmeans_APT, tdkmeans_APT)"
   ]
  },
  {
   "cell_type": "code",
   "execution_count": 36,
   "id": "0cb432b0",
   "metadata": {},
   "outputs": [],
   "source": [
    "kmeans_calc = crs.models.ManagementOffice(\n",
    "    month=_month,\n",
    "    households=kmeans_time_group.copy(),\n",
    "    APT=kmeans_APT,\n",
    "    contract='단일계약'\n",
    ")\n",
    "tdkmeans_calc = crs.models.ManagementOffice(\n",
    "    month=_month,\n",
    "    households=tdkmeans_time_group.copy(),\n",
    "    APT=tdkmeans_APT,\n",
    "    contract='단일계약'\n",
    ")"
   ]
  },
  {
   "cell_type": "code",
   "execution_count": 45,
   "id": "c320297f",
   "metadata": {},
   "outputs": [
    {
     "name": "stdout",
     "output_type": "stream",
     "text": [
      "411 355 364\n",
      "288 231 241\n",
      "6439540 4763500 4923370\n",
      "3798980 2637760 2871750\n",
      "2640560 2125740 2051620\n"
     ]
    }
   ],
   "source": [
    "# APT 평균 사용량\n",
    "print(calc.apart.kwh, kmeans_calc.apart.kwh, tdkmeans_calc.apart.kwh)\n",
    "\n",
    "# 세대부 평균 사용량\n",
    "print(round(month_df['usage (kWh)'].mean()),\n",
    "     round(kmeans_time_group['usage (kWh)'].mean()),\n",
    "     round(tdkmeans_time_group['usage (kWh)'].mean()))\n",
    "\n",
    "\n",
    "# 아파트 전체요금\n",
    "print(calc.bill, kmeans_calc.bill, tdkmeans_calc.bill)\n",
    "\n",
    "# 세대부 전체요금\n",
    "print(calc.bill - calc.public_bill,\n",
    "     kmeans_calc.bill - kmeans_calc.public_bill,\n",
    "     tdkmeans_calc.bill - tdkmeans_calc.public_bill)\n",
    "\n",
    "# 공용부 요금\n",
    "print(calc.public_bill,\n",
    "     kmeans_calc.public_bill,\n",
    "     tdkmeans_calc.public_bill)"
   ]
  },
  {
   "cell_type": "code",
   "execution_count": 46,
   "id": "9126b7d7",
   "metadata": {},
   "outputs": [],
   "source": [
    "def get_col_list(kWh, fee):\n",
    "    col_list = list()\n",
    "    _usage = kWh\n",
    "    for step, _f in enumerate(fee):\n",
    "        collect_rate = _f[1] - _f[0]\n",
    "\n",
    "        # 2단계일 경우\n",
    "        if step == 1:\n",
    "            collect_rate += 1\n",
    "\n",
    "        if kWh < _f[1]:\n",
    "            if (step == 0) or (step == 1):\n",
    "                _col = _usage % collect_rate\n",
    "            else:\n",
    "                _col = _usage\n",
    "        else:\n",
    "            _col = collect_rate\n",
    "\n",
    "        if _usage == 0:\n",
    "            col_list.append(0)\n",
    "        else:\n",
    "            col_list.append(_col)\n",
    "            _usage -= _col\n",
    "\n",
    "    return np.array(col_list)\n",
    "\n",
    "def get_step_mem(col_list, fee):\n",
    "    _mem = list()\n",
    "    _mem_step = 0\n",
    "    \n",
    "    for step,val in enumerate(col_list):\n",
    "        _val = val\n",
    "        f = fee[step][3]\n",
    "        \n",
    "        while _val != 0:\n",
    "            _mem_step += f\n",
    "            _mem.append(_mem_step)\n",
    "            _val -= 1\n",
    "            \n",
    "            \n",
    "    return np.array(_mem)"
   ]
  },
  {
   "cell_type": "code",
   "execution_count": 47,
   "id": "a06e220e",
   "metadata": {},
   "outputs": [
    {
     "data": {
      "image/png": "[encoded data removed]",
      "text/plain": [
       "<Figure size 1152x288 with 1 Axes>"
      ]
     },
     "metadata": {
      "needs_background": "light"
     },
     "output_type": "display_data"
    }
   ],
   "source": [
    "households_col = get_col_list(round(kmeans_time_group['usage (kWh)'].mean()), calc.fee)\n",
    "APT_col = get_col_list(round(kmeans_APT / 108), calc.fee)\n",
    "public_col = APT_col - households_col\n",
    "public_mem = get_step_mem(public_col, calc.fee)\n",
    "\n",
    "col_burden_list = list()\n",
    "\n",
    "for usage in kmeans_time_group['usage (kWh)']:\n",
    "    chk_households_col = get_col_list(usage, calc.fee)\n",
    "    _APT_mean = usage + public_col.sum()\n",
    "\n",
    "    chk_APT_col = get_col_list(_APT_mean, calc.fee)\n",
    "    chk_public_col = chk_APT_col - chk_households_col\n",
    "    chk_public_mem = get_step_mem(chk_public_col, calc.fee)\n",
    "    col_burden = public_mem / chk_public_mem\n",
    "    \n",
    "    col_burden_list.append(col_burden[-1])\n",
    "    \n",
    "plt.figure(figsize=(16,4))\n",
    "\n",
    "plt.bar(range(len(col_burden_list)), col_burden_list, color='g', label='수거부담율')\n",
    "plt.yticks(np.arange(0, 2.1, 0.25))\n",
    "plt.title(\"모든 가구 전력량요금 수거부담율 현황\")\n",
    "\n",
    "plt.legend()\n",
    "\n",
    "plt.show()"
   ]
  },
  {
   "cell_type": "code",
   "execution_count": 48,
   "id": "e5373dd3",
   "metadata": {},
   "outputs": [
    {
     "data": {
      "text/plain": [
       "0.2976727759409283"
      ]
     },
     "execution_count": 48,
     "metadata": {},
     "output_type": "execute_result"
    }
   ],
   "source": [
    "np.array(col_burden_list).std()"
   ]
  },
  {
   "cell_type": "code",
   "execution_count": 49,
   "id": "06b658b0",
   "metadata": {},
   "outputs": [
    {
     "data": {
      "image/png": "[encoded data removed]",
      "text/plain": [
       "<Figure size 1152x288 with 1 Axes>"
      ]
     },
     "metadata": {
      "needs_background": "light"
     },
     "output_type": "display_data"
    }
   ],
   "source": [
    "households_col = get_col_list(round(tdkmeans_time_group['usage (kWh)'].mean()), calc.fee)\n",
    "APT_col = get_col_list(round(tdkmeans_APT / 108), calc.fee)\n",
    "public_col = APT_col - households_col\n",
    "public_mem = get_step_mem(public_col, calc.fee)\n",
    "\n",
    "col_burden_list = list()\n",
    "\n",
    "for usage in tdkmeans_time_group['usage (kWh)']:\n",
    "    chk_households_col = get_col_list(usage, calc.fee)\n",
    "    _APT_mean = usage + public_col.sum()\n",
    "\n",
    "    chk_APT_col = get_col_list(_APT_mean, calc.fee)\n",
    "    chk_public_col = chk_APT_col - chk_households_col\n",
    "    chk_public_mem = get_step_mem(chk_public_col, calc.fee)\n",
    "    col_burden = public_mem / chk_public_mem\n",
    "    \n",
    "    col_burden_list.append(col_burden[-1])\n",
    "    \n",
    "plt.figure(figsize=(16,4))\n",
    "\n",
    "plt.bar(range(len(col_burden_list)), col_burden_list, color='g', label='수거부담율')\n",
    "plt.yticks(np.arange(0, 2.1, 0.25))\n",
    "plt.title(\"모든 가구 전력량요금 수거부담율 현황\")\n",
    "\n",
    "plt.legend()\n",
    "\n",
    "plt.show()"
   ]
  },
  {
   "cell_type": "code",
   "execution_count": 50,
   "id": "01aaebae",
   "metadata": {},
   "outputs": [
    {
     "data": {
      "text/plain": [
       "0.35121732702879543"
      ]
     },
     "execution_count": 50,
     "metadata": {},
     "output_type": "execute_result"
    }
   ],
   "source": [
    "np.array(col_burden_list).std()"
   ]
  },
  {
   "cell_type": "markdown",
   "id": "df74e128",
   "metadata": {},
   "source": [
    "### 의미없는 피드백 확인"
   ]
  },
  {
   "cell_type": "code",
   "execution_count": 105,
   "id": "e6c408f7",
   "metadata": {},
   "outputs": [],
   "source": [
    "def get_min_err(sf):\n",
    "    sf.recovery()\n",
    "    og_pat = sf.datas.values.T\n",
    "    rec_pat = sf.recoveries\n",
    "    err = (og_pat - rec_pat)\n",
    "    \n",
    "    return err[err != 0].min()"
   ]
  },
  {
   "cell_type": "code",
   "execution_count": 106,
   "id": "ad107c66",
   "metadata": {},
   "outputs": [],
   "source": [
    "kmeans_min = list()\n",
    "tdkmeans_min = list()"
   ]
  },
  {
   "cell_type": "code",
   "execution_count": 111,
   "id": "d221fd05",
   "metadata": {},
   "outputs": [
    {
     "name": "stdout",
     "output_type": "stream",
     "text": [
      "ECV : 49 %\n",
      "이상패턴 조정 확인 True\n",
      "1/248 - ECV:86%\n",
      "11/248 - ECV:76%\n",
      "21/248 - ECV:86%\n",
      "31/248 - ECV:87%\n",
      "41/248 - ECV:86%\n",
      "51/248 - ECV:83%\n",
      "61/248 - ECV:89%\n",
      "71/248 - ECV:82%\n",
      "81/248 - ECV:88%\n",
      "91/248 - ECV:79%\n",
      "101/248 - ECV:85%\n",
      "111/248 - ECV:82%\n",
      "121/248 - ECV:83%\n",
      "131/248 - ECV:78%\n",
      "141/248 - ECV:86%\n",
      "151/248 - ECV:88%\n",
      "161/248 - ECV:88%\n",
      "171/248 - ECV:78%\n",
      "181/248 - ECV:81%\n",
      "191/248 - ECV:83%\n",
      "201/248 - ECV:86%\n",
      "211/248 - ECV:79%\n",
      "221/248 - ECV:85%\n",
      "231/248 - ECV:82%\n",
      "241/248 - ECV:87%\n",
      "248/248 - ECV:86%\n",
      "[tdkmeans] adjust anomaly :)\n",
      "1/248 - ECV:82%\n",
      "11/248 - ECV:66%\n",
      "21/248 - ECV:81%\n",
      "31/248 - ECV:87%\n",
      "41/248 - ECV:84%\n",
      "51/248 - ECV:79%\n",
      "61/248 - ECV:87%\n",
      "71/248 - ECV:81%\n",
      "81/248 - ECV:88%\n",
      "91/248 - ECV:67%\n",
      "101/248 - ECV:81%\n",
      "111/248 - ECV:77%\n",
      "121/248 - ECV:76%\n",
      "131/248 - ECV:60%\n",
      "141/248 - ECV:79%\n",
      "151/248 - ECV:83%\n",
      "161/248 - ECV:85%\n",
      "171/248 - ECV:71%\n",
      "181/248 - ECV:74%\n",
      "191/248 - ECV:79%\n",
      "201/248 - ECV:84%\n",
      "211/248 - ECV:63%\n",
      "221/248 - ECV:80%\n",
      "231/248 - ECV:75%\n",
      "241/248 - ECV:85%\n",
      "248/248 - ECV:86%\n",
      "이상패턴 조정 확인 True\n"
     ]
    }
   ],
   "source": [
    "import random as ran\n",
    "\n",
    "while len(kmeans_min) < 100:\n",
    "    try:\n",
    "        random_n = ran.randrange(60, 100)\n",
    "\n",
    "        date_info = xlsx[xlsx.columns[:7]]\n",
    "        hh_info = xlsx[xlsx.columns[7:]].sample(n=random_n, axis=1)\n",
    "\n",
    "        _xlsx = pd.concat([date_info, hh_info], axis=1)\n",
    "\n",
    "        # 1. Data Pre-processing\n",
    "        _ksf = SavingFeedback(_xlsx)\n",
    "        _ksf.select_month(1)\n",
    "\n",
    "        # 2. KMeans Run\n",
    "        _ksf.kmeans_run()\n",
    "\n",
    "        # 3. adjust anomaly\n",
    "        _ksf.adjust_anomaly()\n",
    "        anomaly = _ksf.check_anomaly()\n",
    "        print(\"이상패턴 조정 확인\", len(anomaly) == 0)\n",
    "\n",
    "        time_size = 3\n",
    "\n",
    "        _ksf.time_based_grouping(time_size)\n",
    "        _ksf.feedback()\n",
    "        _ksf.result()\n",
    "\n",
    "        _kmeans_time_group = _ksf.new_group.copy()\n",
    "        _kmeans_time_group.head()\n",
    "\n",
    "        _tsf = SavingFeedback(_xlsx, _type=\"tdkmeans\")\n",
    "\n",
    "        _tsf.select_month(1)\n",
    "        _tsf.kmeans_run()\n",
    "\n",
    "        _tsf.adjust_anomaly()\n",
    "        anomaly = _tsf.check_anomaly()\n",
    "        print(\"이상패턴 조정 확인\", len(anomaly) == 0)\n",
    "\n",
    "        time_size = 3\n",
    "\n",
    "        _tsf.time_based_grouping(time_size)\n",
    "        _tsf.feedback()\n",
    "        _tsf.result()\n",
    "\n",
    "        _tdkmeans_time_group = _tsf.new_group.copy()\n",
    "\n",
    "        clear_output(wait=True)\n",
    "        _tdkmeans_time_group.head()\n",
    "\n",
    "        kmeans_min.append(get_min_err(_ksf))\n",
    "        tdkmeans_min.append(get_min_err(_tsf))\n",
    "    except:\n",
    "        continue"
   ]
  },
  {
   "cell_type": "code",
   "execution_count": 120,
   "id": "130e40e9",
   "metadata": {},
   "outputs": [
    {
     "data": {
      "image/png": "[encoded data removed]",
      "text/plain": [
       "<Figure size 1152x288 with 1 Axes>"
      ]
     },
     "metadata": {
      "needs_background": "light"
     },
     "output_type": "display_data"
    }
   ],
   "source": [
    "plt.figure(figsize=(16,4))\n",
    "\n",
    "plt.title(\"최소 피드백 값 차이\")\n",
    "\n",
    "plt.plot(kmeans_min, label=\"KMeans 기반의 피드백\")\n",
    "plt.plot(tdkmeans_min, label=\"TimeDivisionKMeans 기반의 피드백\")\n",
    "\n",
    "plt.legend(loc='upper right')\n",
    "\n",
    "plt.show()"
   ]
  },
  {
   "cell_type": "code",
   "execution_count": 121,
   "id": "cb7d1806",
   "metadata": {},
   "outputs": [
    {
     "name": "stdout",
     "output_type": "stream",
     "text": [
      "0.0009999999999998899\n",
      "0.008999999999999897\n",
      "0.0013199999999999434\n"
     ]
    }
   ],
   "source": [
    "print(np.array(kmeans_min).min())\n",
    "print(np.array(kmeans_min).max())\n",
    "print(np.array(kmeans_min).mean())"
   ]
  },
  {
   "cell_type": "code",
   "execution_count": 122,
   "id": "9e4ba3a0",
   "metadata": {},
   "outputs": [
    {
     "name": "stdout",
     "output_type": "stream",
     "text": [
      "0.019\n",
      "0.073\n",
      "0.05101000000000001\n"
     ]
    }
   ],
   "source": [
    "print(np.array(tdkmeans_min).min())\n",
    "print(np.array(tdkmeans_min).max())\n",
    "print(np.array(tdkmeans_min).mean())"
   ]
  },
  {
   "cell_type": "code",
   "execution_count": null,
   "id": "59d911fc",
   "metadata": {},
   "outputs": [],
   "source": []
  }
 ],
 "metadata": {
  "kernelspec": {
   "display_name": "Python 3 (ipykernel)",
   "language": "python",
   "name": "python3"
  },
  "language_info": {
   "codemirror_mode": {
    "name": "ipython",
    "version": 3
   },
   "file_extension": ".py",
   "mimetype": "text/x-python",
   "name": "python",
   "nbconvert_exporter": "python",
   "pygments_lexer": "ipython3",
   "version": "3.8.12"
  }
 },
 "nbformat": 4,
 "nbformat_minor": 5
}
