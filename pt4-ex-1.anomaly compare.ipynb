{
 "cells": [
  {
   "cell_type": "markdown",
   "id": "1960998e",
   "metadata": {},
   "source": [
    "## KMeans - TimeDivisionKMeans 비교"
   ]
  },
  {
   "cell_type": "code",
   "execution_count": 29,
   "id": "1d9a92aa",
   "metadata": {},
   "outputs": [],
   "source": [
    "import pandas as pd\n",
    "import numpy as np\n",
    "%matplotlib inline\n",
    "import matplotlib\n",
    "import matplotlib.pyplot as plt\n",
    "import math as mt\n",
    "import warnings\n",
    "import random as ran\n",
    "\n",
    "# 한글출력\n",
    "matplotlib.rc('font', family='AppleGothic')\n",
    "plt.rcParams['axes.unicode_minus'] = False\n",
    "warnings.filterwarnings(action='ignore') \n",
    "\n",
    "from src import crs, PublicPredictor, KMeans, TimeDivisionKMeans\n",
    "from src.dbc import utils\n",
    "import src.utils as ut\n",
    "from IPython.display import clear_output"
   ]
  },
  {
   "cell_type": "code",
   "execution_count": 30,
   "id": "c143d74f",
   "metadata": {},
   "outputs": [],
   "source": [
    "# 1. load_excel\n",
    "data_path = \"data/apt_1.xlsx\"\n",
    "xlsx = pd.read_excel(data_path, header=None,\n",
    "                     skiprows=2, engine=\"openpyxl\")\n",
    "\n",
    "# 2. data preprocessing\n",
    "p, m = crs.utils.data_preprocessing(xlsx)\n",
    "\n",
    "m.set_index(\"month\", inplace=True)\n",
    "\n",
    "# 3. data init\n",
    "_month = 1\n",
    "\n",
    "month_df = pd.DataFrame(m.loc[_month])\n",
    "month_df.reset_index(inplace=True)\n",
    "\n",
    "month_df.columns = ['name', 'usage (kWh)']\n",
    "\n",
    "PUBLIC_PERCENTAGE = 30\n",
    "APT = crs.utils.get_APT(month_df, PUBLIC_PERCENTAGE)\n",
    "\n",
    "calc = crs.models.ManagementOffice(\n",
    "        month=_month,\n",
    "        households=month_df,\n",
    "        APT=APT,\n",
    "        contract=\"단일계약\"\n",
    "    )\n",
    "apt = calc.apart"
   ]
  },
  {
   "cell_type": "code",
   "execution_count": 31,
   "id": "af77a800",
   "metadata": {},
   "outputs": [
    {
     "data": {
      "text/html": [
       "<div>\n",
       "<style scoped>\n",
       "    .dataframe tbody tr th:only-of-type {\n",
       "        vertical-align: middle;\n",
       "    }\n",
       "\n",
       "    .dataframe tbody tr th {\n",
       "        vertical-align: top;\n",
       "    }\n",
       "\n",
       "    .dataframe thead th {\n",
       "        text-align: right;\n",
       "    }\n",
       "</style>\n",
       "<table border=\"1\" class=\"dataframe\">\n",
       "  <thead>\n",
       "    <tr style=\"text-align: right;\">\n",
       "      <th></th>\n",
       "      <th>아파트1-104-1206</th>\n",
       "      <th>아파트1-104-303</th>\n",
       "      <th>아파트1-104-1307</th>\n",
       "      <th>아파트1-104-1208</th>\n",
       "      <th>아파트1-104-408</th>\n",
       "      <th>아파트1-104-203</th>\n",
       "      <th>아파트1-103-1402</th>\n",
       "      <th>아파트1-103-402</th>\n",
       "      <th>아파트1-103-1201</th>\n",
       "      <th>아파트1-103-801</th>\n",
       "      <th>...</th>\n",
       "      <th>아파트1-102-901</th>\n",
       "      <th>아파트1-103-1905</th>\n",
       "      <th>아파트1-103-503</th>\n",
       "      <th>아파트1-103-1504</th>\n",
       "      <th>아파트1-103-606</th>\n",
       "      <th>아파트1-103-903</th>\n",
       "      <th>아파트1-103-1106</th>\n",
       "      <th>아파트1-103-705</th>\n",
       "      <th>아파트1-103-1505</th>\n",
       "      <th>아파트1-103-406</th>\n",
       "    </tr>\n",
       "  </thead>\n",
       "  <tbody>\n",
       "    <tr>\n",
       "      <th>2019-01-01 00:00:00</th>\n",
       "      <td>0.033</td>\n",
       "      <td>0.000</td>\n",
       "      <td>0.034</td>\n",
       "      <td>0.037</td>\n",
       "      <td>0.062</td>\n",
       "      <td>0.322</td>\n",
       "      <td>0.240</td>\n",
       "      <td>0.295</td>\n",
       "      <td>0.373</td>\n",
       "      <td>0.243</td>\n",
       "      <td>...</td>\n",
       "      <td>0.534</td>\n",
       "      <td>0.188</td>\n",
       "      <td>0.400</td>\n",
       "      <td>0.318</td>\n",
       "      <td>0.420</td>\n",
       "      <td>0.626</td>\n",
       "      <td>0.484</td>\n",
       "      <td>0.289</td>\n",
       "      <td>0.305</td>\n",
       "      <td>0.652</td>\n",
       "    </tr>\n",
       "    <tr>\n",
       "      <th>2019-01-01 01:00:00</th>\n",
       "      <td>0.048</td>\n",
       "      <td>0.000</td>\n",
       "      <td>0.033</td>\n",
       "      <td>0.037</td>\n",
       "      <td>0.063</td>\n",
       "      <td>0.185</td>\n",
       "      <td>0.257</td>\n",
       "      <td>0.397</td>\n",
       "      <td>0.257</td>\n",
       "      <td>0.228</td>\n",
       "      <td>...</td>\n",
       "      <td>0.396</td>\n",
       "      <td>0.434</td>\n",
       "      <td>0.355</td>\n",
       "      <td>0.250</td>\n",
       "      <td>0.465</td>\n",
       "      <td>0.409</td>\n",
       "      <td>0.459</td>\n",
       "      <td>0.336</td>\n",
       "      <td>0.332</td>\n",
       "      <td>0.557</td>\n",
       "    </tr>\n",
       "    <tr>\n",
       "      <th>2019-01-01 02:00:00</th>\n",
       "      <td>0.032</td>\n",
       "      <td>0.000</td>\n",
       "      <td>0.039</td>\n",
       "      <td>0.036</td>\n",
       "      <td>0.062</td>\n",
       "      <td>0.175</td>\n",
       "      <td>0.384</td>\n",
       "      <td>0.353</td>\n",
       "      <td>0.123</td>\n",
       "      <td>0.141</td>\n",
       "      <td>...</td>\n",
       "      <td>0.194</td>\n",
       "      <td>0.337</td>\n",
       "      <td>0.379</td>\n",
       "      <td>0.274</td>\n",
       "      <td>0.326</td>\n",
       "      <td>0.307</td>\n",
       "      <td>0.405</td>\n",
       "      <td>0.382</td>\n",
       "      <td>0.311</td>\n",
       "      <td>0.491</td>\n",
       "    </tr>\n",
       "    <tr>\n",
       "      <th>2019-01-01 03:00:00</th>\n",
       "      <td>0.033</td>\n",
       "      <td>0.000</td>\n",
       "      <td>0.039</td>\n",
       "      <td>0.037</td>\n",
       "      <td>0.062</td>\n",
       "      <td>0.167</td>\n",
       "      <td>0.276</td>\n",
       "      <td>0.488</td>\n",
       "      <td>0.142</td>\n",
       "      <td>0.159</td>\n",
       "      <td>...</td>\n",
       "      <td>0.286</td>\n",
       "      <td>0.263</td>\n",
       "      <td>0.375</td>\n",
       "      <td>0.264</td>\n",
       "      <td>0.336</td>\n",
       "      <td>0.345</td>\n",
       "      <td>0.298</td>\n",
       "      <td>0.291</td>\n",
       "      <td>0.261</td>\n",
       "      <td>0.511</td>\n",
       "    </tr>\n",
       "    <tr>\n",
       "      <th>2019-01-01 04:00:00</th>\n",
       "      <td>0.032</td>\n",
       "      <td>0.001</td>\n",
       "      <td>0.033</td>\n",
       "      <td>0.037</td>\n",
       "      <td>0.063</td>\n",
       "      <td>0.197</td>\n",
       "      <td>0.266</td>\n",
       "      <td>0.278</td>\n",
       "      <td>0.190</td>\n",
       "      <td>0.227</td>\n",
       "      <td>...</td>\n",
       "      <td>0.275</td>\n",
       "      <td>0.245</td>\n",
       "      <td>0.310</td>\n",
       "      <td>0.423</td>\n",
       "      <td>0.360</td>\n",
       "      <td>0.364</td>\n",
       "      <td>0.212</td>\n",
       "      <td>0.347</td>\n",
       "      <td>0.294</td>\n",
       "      <td>0.507</td>\n",
       "    </tr>\n",
       "  </tbody>\n",
       "</table>\n",
       "<p>5 rows × 108 columns</p>\n",
       "</div>"
      ],
      "text/plain": [
       "                     아파트1-104-1206  아파트1-104-303  아파트1-104-1307  \\\n",
       "2019-01-01 00:00:00          0.033         0.000          0.034   \n",
       "2019-01-01 01:00:00          0.048         0.000          0.033   \n",
       "2019-01-01 02:00:00          0.032         0.000          0.039   \n",
       "2019-01-01 03:00:00          0.033         0.000          0.039   \n",
       "2019-01-01 04:00:00          0.032         0.001          0.033   \n",
       "\n",
       "                     아파트1-104-1208  아파트1-104-408  아파트1-104-203  아파트1-103-1402  \\\n",
       "2019-01-01 00:00:00          0.037         0.062         0.322          0.240   \n",
       "2019-01-01 01:00:00          0.037         0.063         0.185          0.257   \n",
       "2019-01-01 02:00:00          0.036         0.062         0.175          0.384   \n",
       "2019-01-01 03:00:00          0.037         0.062         0.167          0.276   \n",
       "2019-01-01 04:00:00          0.037         0.063         0.197          0.266   \n",
       "\n",
       "                     아파트1-103-402  아파트1-103-1201  아파트1-103-801  ...  \\\n",
       "2019-01-01 00:00:00         0.295          0.373         0.243  ...   \n",
       "2019-01-01 01:00:00         0.397          0.257         0.228  ...   \n",
       "2019-01-01 02:00:00         0.353          0.123         0.141  ...   \n",
       "2019-01-01 03:00:00         0.488          0.142         0.159  ...   \n",
       "2019-01-01 04:00:00         0.278          0.190         0.227  ...   \n",
       "\n",
       "                     아파트1-102-901  아파트1-103-1905  아파트1-103-503  아파트1-103-1504  \\\n",
       "2019-01-01 00:00:00         0.534          0.188         0.400          0.318   \n",
       "2019-01-01 01:00:00         0.396          0.434         0.355          0.250   \n",
       "2019-01-01 02:00:00         0.194          0.337         0.379          0.274   \n",
       "2019-01-01 03:00:00         0.286          0.263         0.375          0.264   \n",
       "2019-01-01 04:00:00         0.275          0.245         0.310          0.423   \n",
       "\n",
       "                     아파트1-103-606  아파트1-103-903  아파트1-103-1106  아파트1-103-705  \\\n",
       "2019-01-01 00:00:00         0.420         0.626          0.484         0.289   \n",
       "2019-01-01 01:00:00         0.465         0.409          0.459         0.336   \n",
       "2019-01-01 02:00:00         0.326         0.307          0.405         0.382   \n",
       "2019-01-01 03:00:00         0.336         0.345          0.298         0.291   \n",
       "2019-01-01 04:00:00         0.360         0.364          0.212         0.347   \n",
       "\n",
       "                     아파트1-103-1505  아파트1-103-406  \n",
       "2019-01-01 00:00:00          0.305         0.652  \n",
       "2019-01-01 01:00:00          0.332         0.557  \n",
       "2019-01-01 02:00:00          0.311         0.491  \n",
       "2019-01-01 03:00:00          0.261         0.511  \n",
       "2019-01-01 04:00:00          0.294         0.507  \n",
       "\n",
       "[5 rows x 108 columns]"
      ]
     },
     "execution_count": 31,
     "metadata": {},
     "output_type": "execute_result"
    }
   ],
   "source": [
    "m_15 = utils.data_preprocessing(xlsx)\n",
    "\n",
    "df = utils.dimension_reduction(m_15)\n",
    "m_60 = df.copy()\n",
    "\n",
    "m_60.head()\n",
    "\n",
    "m_60_1 = m_60[m_60.index.month == 1].copy()\n",
    "m_60_1.head()"
   ]
  },
  {
   "cell_type": "code",
   "execution_count": 61,
   "id": "a0b46f83",
   "metadata": {},
   "outputs": [
    {
     "name": "stdout",
     "output_type": "stream",
     "text": [
      "ECV : 40 %\n",
      "1/248 - ECV:84%\n",
      "11/248 - ECV:72%\n",
      "21/248 - ECV:85%\n",
      "31/248 - ECV:86%\n",
      "41/248 - ECV:82%\n",
      "51/248 - ECV:82%\n",
      "61/248 - ECV:84%\n",
      "71/248 - ECV:83%\n",
      "81/248 - ECV:84%\n",
      "91/248 - ECV:73%\n",
      "101/248 - ECV:83%\n",
      "111/248 - ECV:77%\n",
      "121/248 - ECV:76%\n",
      "131/248 - ECV:65%\n",
      "141/248 - ECV:87%\n",
      "151/248 - ECV:66%\n",
      "161/248 - ECV:84%\n",
      "171/248 - ECV:74%\n",
      "181/248 - ECV:78%\n",
      "191/248 - ECV:78%\n",
      "201/248 - ECV:84%\n",
      "211/248 - ECV:70%\n",
      "221/248 - ECV:83%\n",
      "231/248 - ECV:77%\n",
      "241/248 - ECV:83%\n",
      "248/248 - ECV:81%\n"
     ]
    }
   ],
   "source": [
    "kmeans_test = pd.DataFrame(columns=['anomaly 발생 수', '최소 멤버 수 군집'])\n",
    "tdkmeans_test = pd.DataFrame(columns=['anomaly 발생 수', '최소 멤버 수 군집'])\n",
    "\n",
    "for case in range(0, 500):\n",
    "    test_m = m_60_1.sample(n=ran.randrange(50, len(m_60_1.columns)), axis=1).copy()\n",
    "\n",
    "    kmeans = KMeans(datas=test_m.T.values)\n",
    "    kmeans.fit()\n",
    "    kmeans_group_df = ut.make_group_df(test_m, kmeans)\n",
    "\n",
    "    tdkmeans = TimeDivisionKMeans(datas=test_m)\n",
    "    tdkmeans.fit()\n",
    "    tdkmeans_group_df = ut.make_group_df(test_m, tdkmeans, _type=\"tdkmeans\")\n",
    "\n",
    "    kmeans_test = kmeans_test.append({\n",
    "        \"anomaly 발생 수\":len(ut.get_anomaly_df(kmeans_group_df)),\n",
    "        \"최소 멤버 수 군집\":kmeans_group_df['label'].value_counts().min()\n",
    "    }, ignore_index=True)\n",
    "    tdkmeans_test = tdkmeans_test.append({\n",
    "        \"anomaly 발생 수\":len(ut.get_anomaly_df(tdkmeans_group_df)),\n",
    "        \"최소 멤버 수 군집\":tdkmeans_group_df['label'].value_counts().min()\n",
    "    }, ignore_index=True)\n",
    "    \n",
    "    clear_output(wait=True)"
   ]
  },
  {
   "cell_type": "code",
   "execution_count": 62,
   "id": "429a1a15",
   "metadata": {},
   "outputs": [
    {
     "data": {
      "text/plain": [
       "anomaly 발생 수    9.388\n",
       "최소 멤버 수 군집      1.014\n",
       "dtype: float64"
      ]
     },
     "execution_count": 62,
     "metadata": {},
     "output_type": "execute_result"
    }
   ],
   "source": [
    "kmeans_test.mean()"
   ]
  },
  {
   "cell_type": "code",
   "execution_count": 63,
   "id": "b562c587",
   "metadata": {},
   "outputs": [
    {
     "data": {
      "text/plain": [
       "anomaly 발생 수    1.812\n",
       "최소 멤버 수 군집      2.718\n",
       "dtype: float64"
      ]
     },
     "execution_count": 63,
     "metadata": {},
     "output_type": "execute_result"
    }
   ],
   "source": [
    "tdkmeans_test.mean()"
   ]
  },
  {
   "cell_type": "code",
   "execution_count": 64,
   "id": "1f25c19e",
   "metadata": {},
   "outputs": [
    {
     "name": "stdout",
     "output_type": "stream",
     "text": [
      "35 6\n"
     ]
    }
   ],
   "source": [
    "print(kmeans_test['anomaly 발생 수'].max(), kmeans_test['최소 멤버 수 군집'].max())"
   ]
  },
  {
   "cell_type": "code",
   "execution_count": 65,
   "id": "171391cc",
   "metadata": {},
   "outputs": [
    {
     "name": "stdout",
     "output_type": "stream",
     "text": [
      "9 9\n"
     ]
    }
   ],
   "source": [
    "print(tdkmeans_test['anomaly 발생 수'].max(), tdkmeans_test['최소 멤버 수 군집'].max())"
   ]
  },
  {
   "cell_type": "code",
   "execution_count": 66,
   "id": "469bca6d",
   "metadata": {},
   "outputs": [
    {
     "name": "stdout",
     "output_type": "stream",
     "text": [
      "0 1\n"
     ]
    }
   ],
   "source": [
    "print(kmeans_test['anomaly 발생 수'].min(), kmeans_test['최소 멤버 수 군집'].min())"
   ]
  },
  {
   "cell_type": "code",
   "execution_count": 67,
   "id": "76945c2e",
   "metadata": {},
   "outputs": [
    {
     "name": "stdout",
     "output_type": "stream",
     "text": [
      "0 1\n"
     ]
    }
   ],
   "source": [
    "print(tdkmeans_test['anomaly 발생 수'].min(), tdkmeans_test['최소 멤버 수 군집'].min())"
   ]
  }
 ],
 "metadata": {
  "kernelspec": {
   "display_name": "Python 3 (ipykernel)",
   "language": "python",
   "name": "python3"
  },
  "language_info": {
   "codemirror_mode": {
    "name": "ipython",
    "version": 3
   },
   "file_extension": ".py",
   "mimetype": "text/x-python",
   "name": "python",
   "nbconvert_exporter": "python",
   "pygments_lexer": "ipython3",
   "version": "3.8.12"
  }
 },
 "nbformat": 4,
 "nbformat_minor": 5
}
