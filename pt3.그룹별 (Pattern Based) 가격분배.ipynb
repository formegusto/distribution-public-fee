{
 "cells": [
  {
   "cell_type": "code",
   "execution_count": 1,
   "id": "e7dc2fca",
   "metadata": {},
   "outputs": [],
   "source": [
    "%load_ext autoreload\n",
    "%autoreload 2\n",
    "%reload_ext autoreload"
   ]
  },
  {
   "cell_type": "code",
   "execution_count": 2,
   "id": "837df79b",
   "metadata": {},
   "outputs": [],
   "source": [
    "import pandas as pd\n",
    "import numpy as np\n",
    "%matplotlib inline\n",
    "import matplotlib\n",
    "import matplotlib.pyplot as plt\n",
    "import math as mt\n",
    "import warnings\n",
    "\n",
    "# 한글출력\n",
    "matplotlib.rc('font', family='AppleGothic')\n",
    "plt.rcParams['axes.unicode_minus'] = False\n",
    "warnings.filterwarnings(action='ignore') \n",
    "\n",
    "from src import crs, PublicPredictor\n",
    "from src.dbc import utils, TimeDivisionKMeans"
   ]
  },
  {
   "cell_type": "code",
   "execution_count": null,
   "id": "35be7f75",
   "metadata": {},
   "outputs": [],
   "source": [
    "# 1. load_excel\n",
    "data_path = \"data/apt_1.xlsx\"\n",
    "xlsx = pd.read_excel(data_path, header=None,\n",
    "                     skiprows=2, engine=\"openpyxl\")\n",
    "\n",
    "# 2. data preprocessing\n",
    "p, m = crs.utils.data_preprocessing(xlsx)\n",
    "\n",
    "m.set_index(\"month\", inplace=True)\n",
    "\n",
    "# 3. data init\n",
    "_month = 1\n",
    "\n",
    "month_df = pd.DataFrame(m.loc[_month])\n",
    "month_df.reset_index(inplace=True)\n",
    "\n",
    "month_df.columns = ['name', 'usage (kWh)']\n",
    "\n",
    "PUBLIC_PERCENTAGE = 30\n",
    "APT = crs.utils.get_APT(month_df, PUBLIC_PERCENTAGE)\n",
    "\n",
    "calc = crs.models.ManagementOffice(\n",
    "        month=_month,\n",
    "        households=month_df,\n",
    "        APT=APT,\n",
    "        contract=\"단일계약\"\n",
    "    )\n",
    "apt = calc.apart"
   ]
  },
  {
   "cell_type": "code",
   "execution_count": null,
   "id": "c2431c68",
   "metadata": {},
   "outputs": [],
   "source": [
    "fee = calc.fee\n",
    "public_bill = calc.public_bill\n",
    "public_bill"
   ]
  },
  {
   "cell_type": "code",
   "execution_count": null,
   "id": "e1d17e13",
   "metadata": {},
   "outputs": [],
   "source": [
    "_public_bill = public_bill / len(month_df)\n",
    "_public_bill"
   ]
  },
  {
   "cell_type": "markdown",
   "id": "f8634107",
   "metadata": {},
   "source": [
    "# 데이터 준비"
   ]
  },
  {
   "cell_type": "code",
   "execution_count": null,
   "id": "fee20f17",
   "metadata": {},
   "outputs": [],
   "source": [
    "m_15 = utils.data_preprocessing(xlsx)\n",
    "\n",
    "df = utils.dimension_reduction(m_15)\n",
    "m_60 = df.copy()\n",
    "\n",
    "m_60.head()"
   ]
  },
  {
   "cell_type": "code",
   "execution_count": null,
   "id": "71551a1d",
   "metadata": {},
   "outputs": [],
   "source": [
    "# 1월치 데이터 파싱\n",
    "m_15_1 = m_15[m_15.index.month == 1].copy()\n",
    "m_15_1.head()"
   ]
  },
  {
   "cell_type": "code",
   "execution_count": null,
   "id": "4fb09c17",
   "metadata": {},
   "outputs": [],
   "source": [
    "m_60_1 = m_60[m_60.index.month == 1].copy()\n",
    "m_60_1.head()"
   ]
  },
  {
   "cell_type": "code",
   "execution_count": null,
   "id": "4c95d3d3",
   "metadata": {},
   "outputs": [],
   "source": [
    "m_60_1[m_60_1.columns[:5]].head()"
   ]
  },
  {
   "cell_type": "markdown",
   "id": "7e81532b",
   "metadata": {},
   "source": [
    "# 클러스터링 셋팅\n",
    "- TimeDivisionKMeans 다시 개발"
   ]
  },
  {
   "cell_type": "code",
   "execution_count": null,
   "id": "48db4aad",
   "metadata": {},
   "outputs": [],
   "source": [
    "from src.TimeDivisionKMeans import TimeDivisionKMeans\n",
    "\n",
    "tdKMeans = TimeDivisionKMeans(datas=m_60_1.T.values)"
   ]
  },
  {
   "cell_type": "code",
   "execution_count": null,
   "id": "b7667593",
   "metadata": {
    "scrolled": false
   },
   "outputs": [],
   "source": [
    "tdKMeans.fit()"
   ]
  },
  {
   "cell_type": "code",
   "execution_count": null,
   "id": "7a01be86",
   "metadata": {},
   "outputs": [],
   "source": [
    "plt.figure(figsize=(16,8))\n",
    "\n",
    "plt.plot(tdKMeans.datas.T, color='g', linewidth=0.4)\n",
    "plt.plot(tdKMeans.clusters_.T, color='b', linewidth=0.4)\n",
    "\n",
    "plt.show()"
   ]
  },
  {
   "cell_type": "markdown",
   "id": "68c59550",
   "metadata": {},
   "source": [
    "# 기여도 산정"
   ]
  },
  {
   "cell_type": "markdown",
   "id": "2d1a633a",
   "metadata": {},
   "source": [
    "## 그룹화"
   ]
  },
  {
   "cell_type": "markdown",
   "id": "730401a3",
   "metadata": {},
   "source": [
    "### label number 부여"
   ]
  },
  {
   "cell_type": "code",
   "execution_count": null,
   "id": "e2c8b390",
   "metadata": {},
   "outputs": [],
   "source": [
    "_month_df = np.column_stack([m_60_1.columns, m_60_1.sum(axis=0).values.round().astype(\"int\")])\n",
    "month_df = pd.DataFrame(_month_df, columns=['name', 'usage (kWh)'])\n",
    "\n",
    "month_df"
   ]
  },
  {
   "cell_type": "code",
   "execution_count": null,
   "id": "988318a7",
   "metadata": {},
   "outputs": [],
   "source": [
    "labels, clusters = tdKMeans.labels_, tdKMeans.clusters_\n",
    "\n",
    "_cluster_info = np.column_stack([month_df.values, labels])\n",
    "cluster_info = pd.DataFrame(_cluster_info, columns=['name', 'usage (kWh)','그룹 번호'])\n",
    "\n",
    "cluster_info.head(10)"
   ]
  },
  {
   "cell_type": "code",
   "execution_count": null,
   "id": "7886ba3e",
   "metadata": {},
   "outputs": [],
   "source": [
    "_labels = np.unique(labels)\n",
    "label_cnt = np.array([np.where(labels == _label)[0].size for _label in _labels])\n",
    "\n",
    "_cont = np.column_stack([_labels, clusters.sum(axis=1).round().astype(\"int\"),label_cnt])\n",
    "cont = pd.DataFrame(_cont, columns=['그룹 번호', 'median (kWh)','가구 수'])\n",
    "cont.set_index(\"그룹 번호\", inplace=True)\n",
    "\n",
    "cont"
   ]
  },
  {
   "cell_type": "markdown",
   "id": "d7e93373",
   "metadata": {},
   "source": [
    "## 기여도 산정 1. 그룹의 중간값 ( 클러스터 패턴의 사용량 ) 을 이용한 기여도 산정"
   ]
  },
  {
   "cell_type": "code",
   "execution_count": null,
   "id": "bb1af4ff",
   "metadata": {},
   "outputs": [],
   "source": [
    "cont_1 = cont.copy()\n",
    "\n",
    "total_median = cont_1['median (kWh)'].sum()\n",
    "cont_1['contribution'] = cont_1['median (kWh)'].map(lambda x: x / total_median)\n",
    "\n",
    "cont_1"
   ]
  },
  {
   "cell_type": "markdown",
   "id": "1d216fef",
   "metadata": {},
   "source": [
    "## 기여도 산정 2. 그룹 안에 속해있는 가구들의 사용량 총합으로 기여도 산정"
   ]
  },
  {
   "cell_type": "code",
   "execution_count": null,
   "id": "5f686de6",
   "metadata": {},
   "outputs": [],
   "source": [
    "cont_2 = cont.copy()\n",
    "\n",
    "households_kWh = cluster_info['usage (kWh)'].sum()\n",
    "\n",
    "cont_2['usage total'] = np.array(\n",
    "    [cluster_info[cluster_info['그룹 번호'] == _label]['usage (kWh)'].sum() for _label in _labels]\n",
    ")\n",
    "cont_2['contribution'] = cont_2['usage total'].map(lambda x: x / households_kWh)\n",
    "\n",
    "cont_2"
   ]
  },
  {
   "cell_type": "markdown",
   "id": "ad3d411b",
   "metadata": {},
   "source": [
    "# 가격분배"
   ]
  },
  {
   "cell_type": "markdown",
   "id": "a210e5a3",
   "metadata": {},
   "source": [
    "## 단순 가격 분배"
   ]
  },
  {
   "cell_type": "code",
   "execution_count": null,
   "id": "19faa2a1",
   "metadata": {},
   "outputs": [],
   "source": [
    "_public_bill = round(public_bill / len(cluster_info))\n",
    "_public_bill"
   ]
  },
  {
   "cell_type": "code",
   "execution_count": null,
   "id": "23ecddab",
   "metadata": {},
   "outputs": [],
   "source": [
    "simple_dist_1 = cont_1.copy()\n",
    "\n",
    "simple_dist_1['공용부 요금'] = simple_dist_1['가구 수'].map(lambda x: x * _public_bill)\n",
    "simple_dist_1['단순 가격분배'] = (simple_dist_1['공용부 요금'] * simple_dist_1['contribution']).round().astype(\"int\")\n",
    "\n",
    "simple_dist_1['가구 별 분배 가격'] = simple_dist_1.apply(lambda x: int(x['단순 가격분배'] / x['가구 수']), axis=1)\n",
    "\n",
    "simple_dist_1"
   ]
  },
  {
   "cell_type": "code",
   "execution_count": null,
   "id": "e616fa2a",
   "metadata": {},
   "outputs": [],
   "source": [
    "simple_info_1 = cluster_info.copy()\n",
    "\n",
    "simple_info_1['단순 가격분배'] = simple_info_1['그룹 번호'].map(\n",
    "        lambda x: int(simple_dist_1.loc[x]['가구 별 분배 가격'])\n",
    ")\n",
    "\n",
    "simple_info_1['공용부 요금 나머지'] = round((public_bill - simple_info_1['단순 가격분배'].sum()) / len(cluster_info))\n",
    "simple_info_1['최종 공용부 요금'] = simple_info_1['단순 가격분배'] + simple_info_1['공용부 요금 나머지']\n",
    "\n",
    "simple_info_1.head(10)"
   ]
  },
  {
   "cell_type": "code",
   "execution_count": null,
   "id": "42a9d1cb",
   "metadata": {},
   "outputs": [],
   "source": [
    "plt.figure(figsize=(16,8))\n",
    "\n",
    "ax_1 = plt.subplot(2,1,1)\n",
    "ax_1.bar(range(len(simple_dist_1)), simple_dist_1['contribution'], color='b', label='기여도')\n",
    "ax_1.set_title(\"그룹별 기여도 현황\")\n",
    "ax_1.legend()\n",
    "\n",
    "ax_2 = plt.subplot(2,1,2)\n",
    "ax_2.bar(range(len(simple_info_1)), simple_info_1['최종 공용부 요금'], color='g', label='가구별 공용부요금')\n",
    "ax_2.set_title(\"가구별 가격분배 현황\")\n",
    "ax_2.legend()\n",
    "\n",
    "plt.show()"
   ]
  },
  {
   "cell_type": "code",
   "execution_count": null,
   "id": "165c2866",
   "metadata": {},
   "outputs": [],
   "source": [
    "min_h = simple_info_1[simple_info_1['name'] == '아파트1-104-905']\n",
    "mean_h = simple_info_1[simple_info_1['name'] == '아파트1-102-801']\n",
    "max_h = simple_info_1[simple_info_1['name'] == '아파트1-102-903']\n",
    "\n",
    "problem_simple_cont = pd.concat([min_h, mean_h, max_h])\n",
    "problem_simple_cont"
   ]
  },
  {
   "cell_type": "markdown",
   "id": "44e4f09c",
   "metadata": {},
   "source": [
    "## 기여도 요금"
   ]
  },
  {
   "cell_type": "code",
   "execution_count": null,
   "id": "28a2fdd7",
   "metadata": {},
   "outputs": [],
   "source": [
    "# 예측 시뮬레이션\n",
    "pp = PublicPredictor(\n",
    "    APT=APT,\n",
    "    month_df=month_df[['name', 'usage (kWh)']],\n",
    "    month=_month\n",
    ")\n",
    "pp.predict"
   ]
  },
  {
   "cell_type": "code",
   "execution_count": null,
   "id": "371fbe2e",
   "metadata": {},
   "outputs": [],
   "source": [
    "col_df = cont.copy()\n",
    "\n",
    "col_df['공용부 기본요금'] = (round(pp.basic / len(month_df)) * col_df['가구 수']).round().astype(\"int\")\n",
    "col_df['공용부 전력량요금'] = round(pp.elec_rate / len(month_df)) * col_df['가구 수'].round().astype(\"int\")\n",
    "\n",
    "col_df"
   ]
  },
  {
   "cell_type": "code",
   "execution_count": null,
   "id": "8f12d4ae",
   "metadata": {},
   "outputs": [],
   "source": [
    "dist_1 = pd.concat([cont_1, col_df[col_df.columns[-2:]]], axis=1)\n",
    "\n",
    "dist_1['기여도 공용부 기본요금'] = (dist_1['공용부 기본요금'] * dist_1['contribution']).round().astype(\"int\")\n",
    "dist_1['기여도 공용부 전력량요금'] = (dist_1['공용부 전력량요금'] * dist_1['contribution']).round().astype(\"int\")\n",
    "dist_1['기여도 공용부 요금'] = dist_1['기여도 공용부 기본요금'] + dist_1['기여도 공용부 전력량요금']\n",
    "dist_1['가구 별 분배 가격'] = (dist_1['기여도 공용부 요금'] / dist_1['가구 수']).round().astype(\"int\")\n",
    "\n",
    "dist_1"
   ]
  },
  {
   "cell_type": "code",
   "execution_count": null,
   "id": "c72f6c4b",
   "metadata": {},
   "outputs": [],
   "source": [
    "dist_info_1 = cluster_info.copy()\n",
    "\n",
    "dist_info_1['단순 가격분배'] = dist_info_1['그룹 번호'].map(\n",
    "        lambda x: int(dist_1.loc[x]['가구 별 분배 가격'])\n",
    ")\n",
    "\n",
    "dist_info_1['공용부 요금 나머지'] = round((public_bill - dist_info_1['단순 가격분배'].sum()) / len(dist_info_1))\n",
    "dist_info_1['최종 공용부 요금'] = dist_info_1['단순 가격분배'] + dist_info_1['공용부 요금 나머지']\n",
    "\n",
    "dist_info_1.head(10)"
   ]
  },
  {
   "cell_type": "code",
   "execution_count": null,
   "id": "fd958564",
   "metadata": {},
   "outputs": [],
   "source": [
    "plt.figure(figsize=(16,8))\n",
    "\n",
    "ax_1 = plt.subplot(2,1,1)\n",
    "ax_1.bar(range(len(dist_1)), dist_1['contribution'], color='b', label='기여도')\n",
    "ax_1.set_title(\"그룹별 기여도 현황\")\n",
    "ax_1.legend()\n",
    "\n",
    "ax_2 = plt.subplot(2,1,2)\n",
    "ax_2.bar(range(len(dist_info_1)), dist_info_1['최종 공용부 요금'], color='g', label='가구별 공용부요금')\n",
    "ax_2.set_title(\"가구별 가격분배 현황\")\n",
    "ax_2.legend()\n",
    "\n",
    "plt.show()"
   ]
  },
  {
   "cell_type": "code",
   "execution_count": null,
   "id": "e2c0eaba",
   "metadata": {},
   "outputs": [],
   "source": [
    "min_h = dist_info_1[dist_info_1['name'] == '아파트1-104-905']\n",
    "mean_h = dist_info_1[dist_info_1['name'] == '아파트1-102-801']\n",
    "max_h = dist_info_1[dist_info_1['name'] == '아파트1-102-903']\n",
    "\n",
    "problem_simple_cont = pd.concat([min_h, mean_h, max_h])\n",
    "problem_simple_cont"
   ]
  },
  {
   "cell_type": "markdown",
   "id": "872cae5c",
   "metadata": {},
   "source": [
    "## 기여도 적용비율 요금"
   ]
  },
  {
   "cell_type": "code",
   "execution_count": null,
   "id": "7f51c3ed",
   "metadata": {},
   "outputs": [],
   "source": [
    "norm_dist = cont_1.copy()\n",
    "\n",
    "norm_dist['contribution'] = (norm_dist['contribution'] - norm_dist['contribution'].min()) / \\\n",
    "                    (norm_dist['contribution'].max() - norm_dist['contribution'].min())\n",
    "\n",
    "norm_dist = pd.concat([norm_dist, col_df[col_df.columns[-2:]]], axis=1)\n",
    "\n",
    "norm_dist['기여도 공용부 기본요금'] = (norm_dist['공용부 기본요금'] * norm_dist['contribution']).round().astype(\"int\")\n",
    "norm_dist['기여도 공용부 전력량요금'] = (norm_dist['공용부 전력량요금'] * norm_dist['contribution']).round().astype(\"int\")\n",
    "norm_dist['기여도 공용부 요금'] = norm_dist['기여도 공용부 기본요금'] + norm_dist['기여도 공용부 전력량요금']\n",
    "norm_dist['가구 별 분배 가격'] = (norm_dist['기여도 공용부 요금'] / norm_dist['가구 수']).round().astype(\"int\")\n",
    "\n",
    "norm_dist"
   ]
  },
  {
   "cell_type": "code",
   "execution_count": null,
   "id": "b9216993",
   "metadata": {},
   "outputs": [],
   "source": [
    "norm_dist_info = cluster_info.copy()\n",
    "\n",
    "norm_dist_info['단순 가격분배'] = norm_dist_info['그룹 번호'].map(\n",
    "        lambda x: int(norm_dist.loc[x]['가구 별 분배 가격'])\n",
    ")\n",
    "\n",
    "norm_dist_info['공용부 요금 나머지'] = round((public_bill - norm_dist_info['단순 가격분배'].sum()) / len(norm_dist_info))\n",
    "norm_dist_info['최종 공용부 요금'] = norm_dist_info['단순 가격분배'] + norm_dist_info['공용부 요금 나머지']\n",
    "\n",
    "norm_dist_info.head(10)"
   ]
  },
  {
   "cell_type": "code",
   "execution_count": null,
   "id": "a5ba46e8",
   "metadata": {},
   "outputs": [],
   "source": [
    "plt.figure(figsize=(16,8))\n",
    "\n",
    "ax_1 = plt.subplot(2,1,1)\n",
    "ax_1.bar(range(len(dist_1)), norm_dist['contribution'], color='b', label='기여도')\n",
    "ax_1.set_title(\"그룹별 기여도 현황\")\n",
    "ax_1.legend()\n",
    "\n",
    "ax_2 = plt.subplot(2,1,2)\n",
    "ax_2.bar(range(len(dist_info_1)), norm_dist_info['최종 공용부 요금'], color='g', label='가구별 공용부요금')\n",
    "ax_2.set_title(\"가구별 가격분배 현황\")\n",
    "ax_2.legend()\n",
    "\n",
    "plt.show()"
   ]
  },
  {
   "cell_type": "code",
   "execution_count": null,
   "id": "52bc40c7",
   "metadata": {},
   "outputs": [],
   "source": [
    "min_h = norm_dist_info[norm_dist_info['name'] == '아파트1-104-905']\n",
    "mean_h = norm_dist_info[norm_dist_info['name'] == '아파트1-102-801']\n",
    "max_h = norm_dist_info[norm_dist_info['name'] == '아파트1-102-903']\n",
    "\n",
    "problem_simple_cont = pd.concat([min_h, mean_h, max_h])\n",
    "problem_simple_cont"
   ]
  },
  {
   "cell_type": "markdown",
   "id": "2350de90",
   "metadata": {},
   "source": [
    "## 피드백 활용"
   ]
  },
  {
   "cell_type": "code",
   "execution_count": null,
   "id": "1359e223",
   "metadata": {},
   "outputs": [],
   "source": []
  }
 ],
 "metadata": {
  "kernelspec": {
   "display_name": "Python 3 (ipykernel)",
   "language": "python",
   "name": "python3"
  },
  "language_info": {
   "codemirror_mode": {
    "name": "ipython",
    "version": 3
   },
   "file_extension": ".py",
   "mimetype": "text/x-python",
   "name": "python",
   "nbconvert_exporter": "python",
   "pygments_lexer": "ipython3",
   "version": "3.8.12"
  }
 },
 "nbformat": 4,
 "nbformat_minor": 5
}
