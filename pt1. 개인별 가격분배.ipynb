{
 "cells": [
  {
   "cell_type": "code",
   "execution_count": 1,
   "id": "dc443d29",
   "metadata": {},
   "outputs": [],
   "source": [
    "%load_ext autoreload\n",
    "%autoreload 2\n",
    "%reload_ext autoreload"
   ]
  },
  {
   "cell_type": "code",
   "execution_count": 2,
   "id": "0df8743f",
   "metadata": {},
   "outputs": [],
   "source": [
    "import pandas as pd\n",
    "import numpy as np\n",
    "%matplotlib inline\n",
    "import matplotlib\n",
    "import matplotlib.pyplot as plt\n",
    "import math as mt\n",
    "import warnings\n",
    "\n",
    "# 한글출력\n",
    "matplotlib.rc('font', family='AppleGothic')\n",
    "plt.rcParams['axes.unicode_minus'] = False\n",
    "warnings.filterwarnings(action='ignore') \n",
    "\n",
    "from src import crs"
   ]
  },
  {
   "cell_type": "code",
   "execution_count": 3,
   "id": "8b56d4c1",
   "metadata": {},
   "outputs": [],
   "source": [
    "# 1. load_excel\n",
    "data_path = \"data/apt_1.xlsx\"\n",
    "xlsx = pd.read_excel(data_path, header=None,\n",
    "                     skiprows=2, engine=\"openpyxl\")\n",
    "\n",
    "# 2. data preprocessing\n",
    "p, m = crs.utils.data_preprocessing(xlsx)\n",
    "\n",
    "m.set_index(\"month\", inplace=True)\n",
    "\n",
    "# 3. data init\n",
    "_month = 1\n",
    "\n",
    "month_df = pd.DataFrame(m.loc[_month])\n",
    "month_df.reset_index(inplace=True)\n",
    "\n",
    "month_df.columns = ['name', 'usage (kWh)']\n",
    "\n",
    "PUBLIC_PERCENTAGE = 30\n",
    "APT = crs.utils.get_APT(month_df, PUBLIC_PERCENTAGE)\n",
    "\n",
    "calc = crs.models.ManagementOffice(\n",
    "        month=_month,\n",
    "        households=month_df,\n",
    "        APT=APT,\n",
    "        contract=\"단일계약\"\n",
    "    )\n",
    "apt = calc.apart"
   ]
  },
  {
   "cell_type": "code",
   "execution_count": 11,
   "id": "5918a77c",
   "metadata": {},
   "outputs": [
    {
     "data": {
      "text/plain": [
       "2640560"
      ]
     },
     "execution_count": 11,
     "metadata": {},
     "output_type": "execute_result"
    }
   ],
   "source": [
    "public_bill = calc.public_bill\n",
    "public_bill"
   ]
  },
  {
   "cell_type": "code",
   "execution_count": 22,
   "id": "5bf82aac",
   "metadata": {},
   "outputs": [
    {
     "data": {
      "text/plain": [
       "24449.62962962963"
      ]
     },
     "execution_count": 22,
     "metadata": {},
     "output_type": "execute_result"
    }
   ],
   "source": [
    "_public_bill = public_bill / len(month_df)\n",
    "_public_bill"
   ]
  },
  {
   "cell_type": "markdown",
   "id": "b4e6a5bd",
   "metadata": {},
   "source": [
    "# 기여도 산정"
   ]
  },
  {
   "cell_type": "code",
   "execution_count": 19,
   "id": "67cde074",
   "metadata": {},
   "outputs": [
    {
     "data": {
      "image/png": "[encoded data removed]",
      "text/plain": [
       "<Figure size 1152x288 with 1 Axes>"
      ]
     },
     "metadata": {
      "needs_background": "light"
     },
     "output_type": "display_data"
    }
   ],
   "source": [
    "households_kWh = month_df['usage (kWh)'].sum()\n",
    "\n",
    "month_df['contribution'] = month_df['usage (kWh)'] / households_kWh \n",
    "\n",
    "plt.figure(figsize=(16,4))\n",
    "\n",
    "plt.bar(range(len(month_df)), month_df['contribution'], color='b', label='기여도')\n",
    "plt.title(\"가구별 기여도 현황\")\n",
    "plt.legend()\n",
    "\n",
    "plt.show()"
   ]
  },
  {
   "cell_type": "markdown",
   "id": "39c4288b",
   "metadata": {},
   "source": [
    "# 단순 가격분배"
   ]
  },
  {
   "cell_type": "code",
   "execution_count": 30,
   "id": "5d76bbad",
   "metadata": {},
   "outputs": [
    {
     "data": {
      "text/html": [
       "<div>\n",
       "<style scoped>\n",
       "    .dataframe tbody tr th:only-of-type {\n",
       "        vertical-align: middle;\n",
       "    }\n",
       "\n",
       "    .dataframe tbody tr th {\n",
       "        vertical-align: top;\n",
       "    }\n",
       "\n",
       "    .dataframe thead th {\n",
       "        text-align: right;\n",
       "    }\n",
       "</style>\n",
       "<table border=\"1\" class=\"dataframe\">\n",
       "  <thead>\n",
       "    <tr style=\"text-align: right;\">\n",
       "      <th></th>\n",
       "      <th>name</th>\n",
       "      <th>usage (kWh)</th>\n",
       "      <th>contribution</th>\n",
       "      <th>단순 가격분배</th>\n",
       "    </tr>\n",
       "  </thead>\n",
       "  <tbody>\n",
       "    <tr>\n",
       "      <th>0</th>\n",
       "      <td>아파트1-101-1002</td>\n",
       "      <td>253</td>\n",
       "      <td>0.008134</td>\n",
       "      <td>21478</td>\n",
       "    </tr>\n",
       "    <tr>\n",
       "      <th>1</th>\n",
       "      <td>아파트1-101-104</td>\n",
       "      <td>689</td>\n",
       "      <td>0.022151</td>\n",
       "      <td>58492</td>\n",
       "    </tr>\n",
       "    <tr>\n",
       "      <th>2</th>\n",
       "      <td>아파트1-101-1102</td>\n",
       "      <td>183</td>\n",
       "      <td>0.005883</td>\n",
       "      <td>15536</td>\n",
       "    </tr>\n",
       "    <tr>\n",
       "      <th>3</th>\n",
       "      <td>아파트1-101-1202</td>\n",
       "      <td>239</td>\n",
       "      <td>0.007684</td>\n",
       "      <td>20290</td>\n",
       "    </tr>\n",
       "    <tr>\n",
       "      <th>4</th>\n",
       "      <td>아파트1-101-1302</td>\n",
       "      <td>455</td>\n",
       "      <td>0.014628</td>\n",
       "      <td>38627</td>\n",
       "    </tr>\n",
       "    <tr>\n",
       "      <th>5</th>\n",
       "      <td>아파트1-101-1401</td>\n",
       "      <td>343</td>\n",
       "      <td>0.011028</td>\n",
       "      <td>29119</td>\n",
       "    </tr>\n",
       "    <tr>\n",
       "      <th>6</th>\n",
       "      <td>아파트1-101-1403</td>\n",
       "      <td>380</td>\n",
       "      <td>0.012217</td>\n",
       "      <td>32260</td>\n",
       "    </tr>\n",
       "    <tr>\n",
       "      <th>7</th>\n",
       "      <td>아파트1-101-1502</td>\n",
       "      <td>219</td>\n",
       "      <td>0.007041</td>\n",
       "      <td>18592</td>\n",
       "    </tr>\n",
       "    <tr>\n",
       "      <th>8</th>\n",
       "      <td>아파트1-101-1504</td>\n",
       "      <td>389</td>\n",
       "      <td>0.012506</td>\n",
       "      <td>33024</td>\n",
       "    </tr>\n",
       "    <tr>\n",
       "      <th>9</th>\n",
       "      <td>아파트1-101-1602</td>\n",
       "      <td>350</td>\n",
       "      <td>0.011253</td>\n",
       "      <td>29713</td>\n",
       "    </tr>\n",
       "  </tbody>\n",
       "</table>\n",
       "</div>"
      ],
      "text/plain": [
       "            name  usage (kWh)  contribution  단순 가격분배\n",
       "0  아파트1-101-1002          253      0.008134    21478\n",
       "1   아파트1-101-104          689      0.022151    58492\n",
       "2  아파트1-101-1102          183      0.005883    15536\n",
       "3  아파트1-101-1202          239      0.007684    20290\n",
       "4  아파트1-101-1302          455      0.014628    38627\n",
       "5  아파트1-101-1401          343      0.011028    29119\n",
       "6  아파트1-101-1403          380      0.012217    32260\n",
       "7  아파트1-101-1502          219      0.007041    18592\n",
       "8  아파트1-101-1504          389      0.012506    33024\n",
       "9  아파트1-101-1602          350      0.011253    29713"
      ]
     },
     "execution_count": 30,
     "metadata": {},
     "output_type": "execute_result"
    }
   ],
   "source": [
    "simple_cont = month_df.copy()\n",
    "simple_cont['단순 가격분배'] = round(public_bill * simple_cont['contribution']).astype(\"int\")\n",
    "\n",
    "simple_cont.head(10)"
   ]
  },
  {
   "cell_type": "code",
   "execution_count": 36,
   "id": "8da41960",
   "metadata": {},
   "outputs": [
    {
     "data": {
      "image/png": "[encoded data removed]",
      "text/plain": [
       "<Figure size 1152x576 with 2 Axes>"
      ]
     },
     "metadata": {
      "needs_background": "light"
     },
     "output_type": "display_data"
    }
   ],
   "source": [
    "plt.figure(figsize=(16,8))\n",
    "\n",
    "ax_1 = plt.subplot(2,1,1)\n",
    "ax_1.bar(range(len(month_df)), month_df['contribution'], color='b', label='기여도')\n",
    "ax_1.set_title(\"가구별 기여도 현황\")\n",
    "ax_1.legend()\n",
    "\n",
    "ax_2 = plt.subplot(2,1,2)\n",
    "ax_2.bar(range(len(month_df)), simple_cont['단순 가격분배'], color='g', label='가구별 공용부요금')\n",
    "ax_2.set_title(\"가구별 가격분배 현황\")\n",
    "ax_2.legend()\n",
    "\n",
    "plt.show()"
   ]
  },
  {
   "cell_type": "code",
   "execution_count": 56,
   "id": "0a9890a5",
   "metadata": {},
   "outputs": [
    {
     "data": {
      "text/html": [
       "<div>\n",
       "<style scoped>\n",
       "    .dataframe tbody tr th:only-of-type {\n",
       "        vertical-align: middle;\n",
       "    }\n",
       "\n",
       "    .dataframe tbody tr th {\n",
       "        vertical-align: top;\n",
       "    }\n",
       "\n",
       "    .dataframe thead th {\n",
       "        text-align: right;\n",
       "    }\n",
       "</style>\n",
       "<table border=\"1\" class=\"dataframe\">\n",
       "  <thead>\n",
       "    <tr style=\"text-align: right;\">\n",
       "      <th></th>\n",
       "      <th>name</th>\n",
       "      <th>usage (kWh)</th>\n",
       "      <th>contribution</th>\n",
       "      <th>단순 가격분배</th>\n",
       "    </tr>\n",
       "  </thead>\n",
       "  <tbody>\n",
       "    <tr>\n",
       "      <th>107</th>\n",
       "      <td>아파트1-104-905</td>\n",
       "      <td>148</td>\n",
       "      <td>0.004758</td>\n",
       "      <td>12564</td>\n",
       "    </tr>\n",
       "    <tr>\n",
       "      <th>43</th>\n",
       "      <td>아파트1-102-801</td>\n",
       "      <td>280</td>\n",
       "      <td>0.009002</td>\n",
       "      <td>23770</td>\n",
       "    </tr>\n",
       "    <tr>\n",
       "      <th>46</th>\n",
       "      <td>아파트1-102-903</td>\n",
       "      <td>711</td>\n",
       "      <td>0.022859</td>\n",
       "      <td>60360</td>\n",
       "    </tr>\n",
       "  </tbody>\n",
       "</table>\n",
       "</div>"
      ],
      "text/plain": [
       "             name  usage (kWh)  contribution  단순 가격분배\n",
       "107  아파트1-104-905          148      0.004758    12564\n",
       "43   아파트1-102-801          280      0.009002    23770\n",
       "46   아파트1-102-903          711      0.022859    60360"
      ]
     },
     "execution_count": 56,
     "metadata": {},
     "output_type": "execute_result"
    }
   ],
   "source": [
    "# 최소사용량 : 아파트1-104-905\n",
    "# 평균사용량 : 아파트1-102-801\n",
    "# 최대사용량 : 아파트1-102-903\n",
    "min_h = simple_cont[simple_cont['name'] == '아파트1-104-905']\n",
    "mean_h = simple_cont[simple_cont['name'] == '아파트1-102-801']\n",
    "max_h = simple_cont[simple_cont['name'] == '아파트1-102-903']\n",
    "\n",
    "problem_simple_cont = pd.concat([min_h, mean_h, max_h])\n",
    "problem_simple_cont"
   ]
  },
  {
   "cell_type": "code",
   "execution_count": null,
   "id": "457004ae",
   "metadata": {},
   "outputs": [],
   "source": []
  }
 ],
 "metadata": {
  "kernelspec": {
   "display_name": "Python 3 (ipykernel)",
   "language": "python",
   "name": "python3"
  },
  "language_info": {
   "codemirror_mode": {
    "name": "ipython",
    "version": 3
   },
   "file_extension": ".py",
   "mimetype": "text/x-python",
   "name": "python",
   "nbconvert_exporter": "python",
   "pygments_lexer": "ipython3",
   "version": "3.8.12"
  }
 },
 "nbformat": 4,
 "nbformat_minor": 5
}
